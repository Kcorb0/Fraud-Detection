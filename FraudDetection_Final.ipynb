{
 "cells": [
  {
   "cell_type": "markdown",
   "id": "c0a6983c",
   "metadata": {},
   "source": [
    "# Assignment 2: Fraud Detection"
   ]
  },
  {
   "cell_type": "markdown",
   "id": "ded8cbe8",
   "metadata": {},
   "source": [
    "## Case Study\n",
    "\n",
    "<p>An insurance company plans to utilise their historic insurance fraud dataset to predict the likelihood or the level of risk a customer poses. You can find the dataset above. Referring genuine claims cause customer stress and directly leads to customer loss, costing the company money (assume that any referred non-fraud case will lead to losing that customer). While obviously, fraud claims cost the company as well. Their main requirement is to use an unbiased predictive model capable of flagging and referring potential fraud cases for further investigation with a balanced error rate of 5%.</p>"
   ]
  },
  {
   "cell_type": "markdown",
   "id": "ed1c5a2a",
   "metadata": {},
   "source": [
    "## 1 Aims, Objectives & Plan\n",
    "### 1.1 Aims & Objectives\n",
    "The primary objective is to analyse a medium sized dataset containing insurance claims from an insurance company with the goal of identifying potential fraudulant claims. The project requires a minumum of two techniques to provide predictions or valuable insights.\n",
    "\n",
    "Secondly, a technical report which consists of a narration around the analysis conducted for the project. This will be a jupyter notebook document containing the key procedures taken for each step such as justifying choices made in pre-processing, the models solutions, various visualisations of the analysis and testing with performance metrics such as F1, recall, confusion matrix etc.\n",
    "\n",
    "Using the information gathered from analysis and techniques, insights will be produced to quantify the loss incurred when the company loses customers which will be calculated with the model prediction errors.\n",
    "\n",
    "### 1.2 Plan - Gantt Chart\n",
    "The following Gantt chart provides insight into how time was allocated for each key section of the project.\n",
    "<img src=\"gantt_figure.jpg\">"
   ]
  },
  {
   "cell_type": "markdown",
   "id": "17fb4099",
   "metadata": {},
   "source": [
    "## 2 Understanding the Case Study\n",
    "### 2.1 Case Study Analysis\n",
    "In this section I will present my understanding of the case study with the 4 critical points found in the case description.\n",
    "#### 2.1.1 Predicting a Customers Level of Risk\n",
    "Each row of the datasets provide information for an individual customers claim with labels depicting if the claim was fraudulant or legitimate. The client needs to know what level of risk future clients pose for future cases, using historical data.\n",
    "\n",
    "#### 2.1.2 Cost of Fraudulant Cases for Customers and Company\n",
    "Cases provided contain various cost factors such as property claim, injury claims etc. Part of the case study specifies the need to highlight the cost risk for fraudulant cases company and customer alike, the case study specifies the risk of losing customers due to cost. \n",
    "\n",
    "#### 2.1.3 Unbiased Prediction Model to Flag Fraudulant Cases\n",
    "The case study specifies the need of unbiased predictions. This can be acheived in pre-processing ensuring the training/test data is well balanced with fair distributions. Techniques such as regularization and post-processing techniques such as equalizing false positives and false negatives.\n",
    "\n",
    "#### 2.1.4 Accuracy and Error Rate of the Models\n",
    "Accuracy measures are needed to ensure the model is making correct predictions/accurate insights, such as correctly classified instances. The error rate will also be calculated to complement accuracy. The case study specifies the client is expecting a balanced error rate of around 5%.\n",
    "\n",
    "#### 2.1.5 Quantify Incurred Loss\n",
    "The client needs to know an estimate for how much money they will lose if a customer is lost which will need to be calculated from the models prediction error resulting in a pricing model. If the model predicts incorrectly and a fraudulant customer has not been identified how much could this model cost the company over time."
   ]
  },
  {
   "cell_type": "markdown",
   "id": "fcc443b8",
   "metadata": {},
   "source": [
    "## 3 Pre-Processing"
   ]
  },
  {
   "cell_type": "markdown",
   "id": "7c83408e",
   "metadata": {},
   "source": [
    "#### Importing Initial Permitted Libraries"
   ]
  },
  {
   "cell_type": "code",
   "execution_count": 1,
   "id": "e54b7be9",
   "metadata": {},
   "outputs": [],
   "source": [
    "import numpy as np\n",
    "import pandas as pd\n",
    "import matplotlib.pyplot as plt\n",
    "import sklearn\n",
    "\n",
    "# Library configurations\n",
    "pd.set_option('display.max_columns', None)"
   ]
  },
  {
   "cell_type": "markdown",
   "id": "c00297bf",
   "metadata": {},
   "source": [
    "#### Loading the Datasets into Pandas Dataframes for Analysis"
   ]
  },
  {
   "cell_type": "code",
   "execution_count": 2,
   "id": "33248900",
   "metadata": {},
   "outputs": [],
   "source": [
    "# Converting each of the CSV files to pandas dataframes\n",
    "customers_no_target_df = pd.read_csv(\"./Data/TrainData/Traindata_withoutTarget.csv\")\n",
    "customers_target_df = pd.read_csv(\"./Data/TrainData/Traindata_with_Target.csv\")\n",
    "claims_df = pd.read_csv(\"./Data/TrainData/Train_Claim.csv\")\n",
    "demographics_df = pd.read_csv(\"./Data/TrainData/Train_Demographics.csv\")\n",
    "policy_df = pd.read_csv(\"./Data/TrainData/Train_Policy.csv\")\n",
    "vehicle_df = pd.read_csv(\"./Data/TrainData/Train_Vehicle.csv\")\n",
    "\n",
    "# Joining the data into one large dataframe for pre-processing\n",
    "df1 = pd.merge(claims_df, demographics_df, on='CustomerID')\n",
    "df2 = pd.merge(df1, policy_df, on='CustomerID')\n",
    "full_df = pd.merge(df2, customers_target_df, on='CustomerID')\n",
    "\n",
    "fraud = full_df[\"ReportedFraud\"] == \"Y\"\n",
    "not_fraud = full_df[\"ReportedFraud\"] == \"N\""
   ]
  },
  {
   "cell_type": "code",
   "execution_count": 3,
   "id": "d9165d22",
   "metadata": {
    "scrolled": true
   },
   "outputs": [
    {
     "data": {
      "text/html": [
       "<div>\n",
       "<style scoped>\n",
       "    .dataframe tbody tr th:only-of-type {\n",
       "        vertical-align: middle;\n",
       "    }\n",
       "\n",
       "    .dataframe tbody tr th {\n",
       "        vertical-align: top;\n",
       "    }\n",
       "\n",
       "    .dataframe thead th {\n",
       "        text-align: right;\n",
       "    }\n",
       "</style>\n",
       "<table border=\"1\" class=\"dataframe\">\n",
       "  <thead>\n",
       "    <tr style=\"text-align: right;\">\n",
       "      <th></th>\n",
       "      <th>CustomerID</th>\n",
       "      <th>DateOfIncident</th>\n",
       "      <th>TypeOfIncident</th>\n",
       "      <th>TypeOfCollission</th>\n",
       "      <th>SeverityOfIncident</th>\n",
       "      <th>AuthoritiesContacted</th>\n",
       "      <th>IncidentState</th>\n",
       "      <th>IncidentCity</th>\n",
       "      <th>IncidentAddress</th>\n",
       "      <th>IncidentTime</th>\n",
       "      <th>NumberOfVehicles</th>\n",
       "      <th>PropertyDamage</th>\n",
       "      <th>BodilyInjuries</th>\n",
       "      <th>Witnesses</th>\n",
       "      <th>PoliceReport</th>\n",
       "      <th>AmountOfTotalClaim</th>\n",
       "      <th>AmountOfInjuryClaim</th>\n",
       "      <th>AmountOfPropertyClaim</th>\n",
       "      <th>AmountOfVehicleDamage</th>\n",
       "      <th>InsuredAge</th>\n",
       "      <th>InsuredZipCode</th>\n",
       "      <th>InsuredGender</th>\n",
       "      <th>InsuredEducationLevel</th>\n",
       "      <th>InsuredOccupation</th>\n",
       "      <th>InsuredHobbies</th>\n",
       "      <th>CapitalGains</th>\n",
       "      <th>CapitalLoss</th>\n",
       "      <th>Country</th>\n",
       "      <th>InsurancePolicyNumber</th>\n",
       "      <th>CustomerLoyaltyPeriod</th>\n",
       "      <th>DateOfPolicyCoverage</th>\n",
       "      <th>InsurancePolicyState</th>\n",
       "      <th>Policy_CombinedSingleLimit</th>\n",
       "      <th>Policy_Deductible</th>\n",
       "      <th>PolicyAnnualPremium</th>\n",
       "      <th>UmbrellaLimit</th>\n",
       "      <th>InsuredRelationship</th>\n",
       "      <th>ReportedFraud</th>\n",
       "    </tr>\n",
       "  </thead>\n",
       "  <tbody>\n",
       "    <tr>\n",
       "      <th>0</th>\n",
       "      <td>Cust10000</td>\n",
       "      <td>2015-02-03</td>\n",
       "      <td>Multi-vehicle Collision</td>\n",
       "      <td>Side Collision</td>\n",
       "      <td>Total Loss</td>\n",
       "      <td>Police</td>\n",
       "      <td>State7</td>\n",
       "      <td>City1</td>\n",
       "      <td>Location 1311</td>\n",
       "      <td>17</td>\n",
       "      <td>3</td>\n",
       "      <td>?</td>\n",
       "      <td>1</td>\n",
       "      <td>0</td>\n",
       "      <td>?</td>\n",
       "      <td>65501</td>\n",
       "      <td>13417</td>\n",
       "      <td>6071</td>\n",
       "      <td>46013</td>\n",
       "      <td>35</td>\n",
       "      <td>454776</td>\n",
       "      <td>MALE</td>\n",
       "      <td>JD</td>\n",
       "      <td>armed-forces</td>\n",
       "      <td>movies</td>\n",
       "      <td>56700</td>\n",
       "      <td>-48500</td>\n",
       "      <td>India</td>\n",
       "      <td>119121</td>\n",
       "      <td>49</td>\n",
       "      <td>1998-10-25</td>\n",
       "      <td>State1</td>\n",
       "      <td>100/300</td>\n",
       "      <td>1000</td>\n",
       "      <td>1632.73</td>\n",
       "      <td>0</td>\n",
       "      <td>not-in-family</td>\n",
       "      <td>N</td>\n",
       "    </tr>\n",
       "    <tr>\n",
       "      <th>1</th>\n",
       "      <td>Cust10001</td>\n",
       "      <td>2015-02-02</td>\n",
       "      <td>Multi-vehicle Collision</td>\n",
       "      <td>Side Collision</td>\n",
       "      <td>Total Loss</td>\n",
       "      <td>Police</td>\n",
       "      <td>State7</td>\n",
       "      <td>City5</td>\n",
       "      <td>Location 1311</td>\n",
       "      <td>10</td>\n",
       "      <td>3</td>\n",
       "      <td>YES</td>\n",
       "      <td>2</td>\n",
       "      <td>1</td>\n",
       "      <td>YES</td>\n",
       "      <td>61382</td>\n",
       "      <td>15560</td>\n",
       "      <td>5919</td>\n",
       "      <td>39903</td>\n",
       "      <td>36</td>\n",
       "      <td>454776</td>\n",
       "      <td>MALE</td>\n",
       "      <td>JD</td>\n",
       "      <td>tech-support</td>\n",
       "      <td>cross-fit</td>\n",
       "      <td>70600</td>\n",
       "      <td>-48500</td>\n",
       "      <td>India</td>\n",
       "      <td>119122</td>\n",
       "      <td>114</td>\n",
       "      <td>2000-11-15</td>\n",
       "      <td>State1</td>\n",
       "      <td>100/300</td>\n",
       "      <td>1000</td>\n",
       "      <td>1255.19</td>\n",
       "      <td>0</td>\n",
       "      <td>not-in-family</td>\n",
       "      <td>N</td>\n",
       "    </tr>\n",
       "    <tr>\n",
       "      <th>2</th>\n",
       "      <td>Cust10002</td>\n",
       "      <td>2015-01-15</td>\n",
       "      <td>Single Vehicle Collision</td>\n",
       "      <td>Side Collision</td>\n",
       "      <td>Minor Damage</td>\n",
       "      <td>Other</td>\n",
       "      <td>State8</td>\n",
       "      <td>City6</td>\n",
       "      <td>Location 2081</td>\n",
       "      <td>22</td>\n",
       "      <td>1</td>\n",
       "      <td>YES</td>\n",
       "      <td>2</td>\n",
       "      <td>3</td>\n",
       "      <td>NO</td>\n",
       "      <td>66755</td>\n",
       "      <td>11630</td>\n",
       "      <td>11630</td>\n",
       "      <td>43495</td>\n",
       "      <td>33</td>\n",
       "      <td>603260</td>\n",
       "      <td>MALE</td>\n",
       "      <td>JD</td>\n",
       "      <td>armed-forces</td>\n",
       "      <td>polo</td>\n",
       "      <td>66400</td>\n",
       "      <td>-63700</td>\n",
       "      <td>India</td>\n",
       "      <td>119123</td>\n",
       "      <td>167</td>\n",
       "      <td>2001-02-12</td>\n",
       "      <td>State3</td>\n",
       "      <td>500/1000</td>\n",
       "      <td>617</td>\n",
       "      <td>1373.38</td>\n",
       "      <td>0</td>\n",
       "      <td>wife</td>\n",
       "      <td>N</td>\n",
       "    </tr>\n",
       "    <tr>\n",
       "      <th>3</th>\n",
       "      <td>Cust10003</td>\n",
       "      <td>2015-01-19</td>\n",
       "      <td>Single Vehicle Collision</td>\n",
       "      <td>Side Collision</td>\n",
       "      <td>Minor Damage</td>\n",
       "      <td>Other</td>\n",
       "      <td>State9</td>\n",
       "      <td>City6</td>\n",
       "      <td>Location 2081</td>\n",
       "      <td>22</td>\n",
       "      <td>1</td>\n",
       "      <td>YES</td>\n",
       "      <td>2</td>\n",
       "      <td>3</td>\n",
       "      <td>NO</td>\n",
       "      <td>66243</td>\n",
       "      <td>12003</td>\n",
       "      <td>12003</td>\n",
       "      <td>42237</td>\n",
       "      <td>36</td>\n",
       "      <td>474848</td>\n",
       "      <td>MALE</td>\n",
       "      <td>JD</td>\n",
       "      <td>armed-forces</td>\n",
       "      <td>polo</td>\n",
       "      <td>47900</td>\n",
       "      <td>-73400</td>\n",
       "      <td>India</td>\n",
       "      <td>119124</td>\n",
       "      <td>190</td>\n",
       "      <td>2005-04-11</td>\n",
       "      <td>State2</td>\n",
       "      <td>500/1000</td>\n",
       "      <td>722</td>\n",
       "      <td>1337.60</td>\n",
       "      <td>0</td>\n",
       "      <td>own-child</td>\n",
       "      <td>N</td>\n",
       "    </tr>\n",
       "    <tr>\n",
       "      <th>4</th>\n",
       "      <td>Cust10004</td>\n",
       "      <td>2015-01-09</td>\n",
       "      <td>Single Vehicle Collision</td>\n",
       "      <td>Rear Collision</td>\n",
       "      <td>Minor Damage</td>\n",
       "      <td>Fire</td>\n",
       "      <td>State8</td>\n",
       "      <td>City6</td>\n",
       "      <td>Location 1695</td>\n",
       "      <td>10</td>\n",
       "      <td>1</td>\n",
       "      <td>NO</td>\n",
       "      <td>2</td>\n",
       "      <td>1</td>\n",
       "      <td>YES</td>\n",
       "      <td>53544</td>\n",
       "      <td>8829</td>\n",
       "      <td>7234</td>\n",
       "      <td>37481</td>\n",
       "      <td>29</td>\n",
       "      <td>457942</td>\n",
       "      <td>FEMALE</td>\n",
       "      <td>High School</td>\n",
       "      <td>exec-managerial</td>\n",
       "      <td>dancing</td>\n",
       "      <td>0</td>\n",
       "      <td>-41500</td>\n",
       "      <td>India</td>\n",
       "      <td>119125</td>\n",
       "      <td>115</td>\n",
       "      <td>1996-10-25</td>\n",
       "      <td>State2</td>\n",
       "      <td>100/300</td>\n",
       "      <td>500</td>\n",
       "      <td>1353.73</td>\n",
       "      <td>4279863</td>\n",
       "      <td>unmarried</td>\n",
       "      <td>N</td>\n",
       "    </tr>\n",
       "  </tbody>\n",
       "</table>\n",
       "</div>"
      ],
      "text/plain": [
       "  CustomerID DateOfIncident            TypeOfIncident TypeOfCollission  \\\n",
       "0  Cust10000     2015-02-03   Multi-vehicle Collision   Side Collision   \n",
       "1  Cust10001     2015-02-02   Multi-vehicle Collision   Side Collision   \n",
       "2  Cust10002     2015-01-15  Single Vehicle Collision   Side Collision   \n",
       "3  Cust10003     2015-01-19  Single Vehicle Collision   Side Collision   \n",
       "4  Cust10004     2015-01-09  Single Vehicle Collision   Rear Collision   \n",
       "\n",
       "  SeverityOfIncident AuthoritiesContacted IncidentState IncidentCity  \\\n",
       "0         Total Loss               Police        State7        City1   \n",
       "1         Total Loss               Police        State7        City5   \n",
       "2       Minor Damage                Other        State8        City6   \n",
       "3       Minor Damage                Other        State9        City6   \n",
       "4       Minor Damage                 Fire        State8        City6   \n",
       "\n",
       "  IncidentAddress  IncidentTime  NumberOfVehicles PropertyDamage  \\\n",
       "0   Location 1311            17                 3              ?   \n",
       "1   Location 1311            10                 3            YES   \n",
       "2   Location 2081            22                 1            YES   \n",
       "3   Location 2081            22                 1            YES   \n",
       "4   Location 1695            10                 1             NO   \n",
       "\n",
       "   BodilyInjuries Witnesses PoliceReport AmountOfTotalClaim  \\\n",
       "0               1         0            ?              65501   \n",
       "1               2         1          YES              61382   \n",
       "2               2         3           NO              66755   \n",
       "3               2         3           NO              66243   \n",
       "4               2         1          YES              53544   \n",
       "\n",
       "   AmountOfInjuryClaim  AmountOfPropertyClaim  AmountOfVehicleDamage  \\\n",
       "0                13417                   6071                  46013   \n",
       "1                15560                   5919                  39903   \n",
       "2                11630                  11630                  43495   \n",
       "3                12003                  12003                  42237   \n",
       "4                 8829                   7234                  37481   \n",
       "\n",
       "   InsuredAge  InsuredZipCode InsuredGender InsuredEducationLevel  \\\n",
       "0          35          454776          MALE                    JD   \n",
       "1          36          454776          MALE                    JD   \n",
       "2          33          603260          MALE                    JD   \n",
       "3          36          474848          MALE                    JD   \n",
       "4          29          457942        FEMALE           High School   \n",
       "\n",
       "  InsuredOccupation InsuredHobbies  CapitalGains  CapitalLoss Country  \\\n",
       "0      armed-forces         movies         56700       -48500   India   \n",
       "1      tech-support      cross-fit         70600       -48500   India   \n",
       "2      armed-forces           polo         66400       -63700   India   \n",
       "3      armed-forces           polo         47900       -73400   India   \n",
       "4   exec-managerial        dancing             0       -41500   India   \n",
       "\n",
       "   InsurancePolicyNumber  CustomerLoyaltyPeriod DateOfPolicyCoverage  \\\n",
       "0                 119121                     49           1998-10-25   \n",
       "1                 119122                    114           2000-11-15   \n",
       "2                 119123                    167           2001-02-12   \n",
       "3                 119124                    190           2005-04-11   \n",
       "4                 119125                    115           1996-10-25   \n",
       "\n",
       "  InsurancePolicyState Policy_CombinedSingleLimit  Policy_Deductible  \\\n",
       "0               State1                    100/300               1000   \n",
       "1               State1                    100/300               1000   \n",
       "2               State3                   500/1000                617   \n",
       "3               State2                   500/1000                722   \n",
       "4               State2                    100/300                500   \n",
       "\n",
       "   PolicyAnnualPremium  UmbrellaLimit InsuredRelationship ReportedFraud  \n",
       "0              1632.73              0       not-in-family             N  \n",
       "1              1255.19              0       not-in-family             N  \n",
       "2              1373.38              0                wife             N  \n",
       "3              1337.60              0           own-child             N  \n",
       "4              1353.73        4279863           unmarried             N  "
      ]
     },
     "execution_count": 3,
     "metadata": {},
     "output_type": "execute_result"
    }
   ],
   "source": [
    "full_df.head()"
   ]
  },
  {
   "cell_type": "markdown",
   "id": "edc4ec91",
   "metadata": {},
   "source": [
    "### 3.1 Preparing the labels"
   ]
  },
  {
   "cell_type": "markdown",
   "id": "9ded61ce",
   "metadata": {},
   "source": [
    "#### 3.1.1 Dealing with class imbalance\n",
    "The following cell shows the class distributions, around 73% of the labels are non-fraudulant claims and around 27% fraudulant claims. Stratified sampling will be used when selecting the train and test sets to ensure the distribution stays consistant."
   ]
  },
  {
   "cell_type": "code",
   "execution_count": 4,
   "id": "d7c25347",
   "metadata": {},
   "outputs": [
    {
     "data": {
      "text/plain": [
       "N    0.730025\n",
       "Y    0.269975\n",
       "Name: ReportedFraud, dtype: float64"
      ]
     },
     "execution_count": 4,
     "metadata": {},
     "output_type": "execute_result"
    }
   ],
   "source": [
    "customers_target_df[\"ReportedFraud\"].value_counts(normalize=True)"
   ]
  },
  {
   "cell_type": "code",
   "execution_count": 5,
   "id": "0ea77b99",
   "metadata": {},
   "outputs": [],
   "source": [
    "from sklearn.model_selection import train_test_split\n",
    "\n",
    "y = full_df[\"ReportedFraud\"]\n",
    "X = full_df.drop(\"ReportedFraud\", axis=1)\n",
    "\n",
    "# Splitting data and labels, stratify the datasets using the labels\n",
    "x_train, x_test, y_train, y_test = train_test_split(X, y, test_size=0.20, random_state=42, stratify=y)"
   ]
  },
  {
   "cell_type": "markdown",
   "id": "2a30ff74",
   "metadata": {},
   "source": [
    "We can confirm the train and test labels have consistant distribution with value counts and normalizing the output for the distributions."
   ]
  },
  {
   "cell_type": "code",
   "execution_count": 6,
   "id": "c25eff84",
   "metadata": {
    "scrolled": true
   },
   "outputs": [
    {
     "data": {
      "text/plain": [
       "N    0.730016\n",
       "Y    0.269984\n",
       "Name: ReportedFraud, dtype: float64"
      ]
     },
     "execution_count": 6,
     "metadata": {},
     "output_type": "execute_result"
    }
   ],
   "source": [
    "# Confirming the labels have been correctly stratified\n",
    "y_train.value_counts(normalize=True)"
   ]
  },
  {
   "cell_type": "code",
   "execution_count": 7,
   "id": "ffb0409d",
   "metadata": {},
   "outputs": [
    {
     "data": {
      "text/plain": [
       "N    0.730062\n",
       "Y    0.269938\n",
       "Name: ReportedFraud, dtype: float64"
      ]
     },
     "execution_count": 7,
     "metadata": {},
     "output_type": "execute_result"
    }
   ],
   "source": [
    "y_test.value_counts(normalize=True)"
   ]
  },
  {
   "cell_type": "markdown",
   "id": "97612948",
   "metadata": {},
   "source": [
    "### 3.2 Removing Synonymous and Noisy Atrributes\n",
    "In the following section I will outline some of my research into the attributes, here there will be examples of strong and weak attributes and the ones I will drop for the sake of simplifying the model and reducing noise and bias."
   ]
  },
  {
   "cell_type": "markdown",
   "id": "a64bef0f",
   "metadata": {},
   "source": [
    "#### 3.2.1 Identifying Key Attributes (SeverityOfIncident)\n",
    "One of my first observations when viewing the data was that confirmed fraudulant cases where often \"Major Damage\" cases while legitimate cases where \"Total Loss\" or minimal damage cases. This will be illustrated in the next cell with a histogram, showing a very clear difference in total cases between the two classes. This attribute should prove quite useful when training a DecisionTree in later sections."
   ]
  },
  {
   "cell_type": "code",
   "execution_count": 8,
   "id": "515c6d96",
   "metadata": {
    "scrolled": false
   },
   "outputs": [
    {
     "data": {
      "image/png": "[encoded data removed]",
      "text/plain": [
       "<Figure size 720x360 with 1 Axes>"
      ]
     },
     "metadata": {
      "needs_background": "light"
     },
     "output_type": "display_data"
    }
   ],
   "source": [
    "soi_fraud = full_df[fraud][\"SeverityOfIncident\"]\n",
    "soi_not_fraud = full_df[not_fraud][\"SeverityOfIncident\"]\n",
    "colors = [\"Red\", \"Blue\"]\n",
    "label = [\"Fraud\", \"Not-Fraud\"]\n",
    "title = \"Severity levels for confirmed and non confirmed fraud\"\n",
    "x_plots = [soi_fraud, soi_not_fraud]\n",
    "plt.figure(figsize = (10, 5))\n",
    "plt.title(title)\n",
    "plt.hist(x_plots, bins=np.arange(5)-0.5, density=True, color=colors)\n",
    "plt.xlabel('Severity Level')\n",
    "plt.ylabel('Total Cases')\n",
    "plt.legend(label)\n",
    "plt.show()"
   ]
  },
  {
   "cell_type": "markdown",
   "id": "02d13a8e",
   "metadata": {},
   "source": [
    "#### 3.2.2 Identifying Key Attributes (AuthoritiesContacted)\n",
    "Fraudulent cases tend to call departments other than police however there are a small number of cases where fraud cases are not reported, which makes sense concidering how fraud tends to work."
   ]
  },
  {
   "cell_type": "code",
   "execution_count": 9,
   "id": "ef4eb899",
   "metadata": {
    "scrolled": true
   },
   "outputs": [
    {
     "data": {
      "image/png": "[encoded data removed]",
      "text/plain": [
       "<Figure size 720x360 with 1 Axes>"
      ]
     },
     "metadata": {
      "needs_background": "light"
     },
     "output_type": "display_data"
    }
   ],
   "source": [
    "auth_fraud = full_df[fraud][\"AuthoritiesContacted\"]\n",
    "auth_not_fraud = full_df[not_fraud][\"AuthoritiesContacted\"]\n",
    "colors = [\"Red\", \"Blue\"]\n",
    "label = [\"Fraud\", \"Not-Fraud\"]\n",
    "title = title = \"Type of authorities contacted to the scene.\"\n",
    "x_plots = [auth_fraud, auth_not_fraud]\n",
    "\n",
    "plt.figure(figsize = (10, 5))\n",
    "plt.title(title)\n",
    "plt.hist(x_plots, bins=np.arange(6)-0.5, density=True, color=colors)\n",
    "plt.xlabel('Authorities')\n",
    "plt.ylabel('Total Cases')\n",
    "plt.legend(label)\n",
    "\n",
    "plt.show()"
   ]
  },
  {
   "cell_type": "markdown",
   "id": "d866146c",
   "metadata": {},
   "source": [
    "#### 3.2.3 Identifying Key Attributes (NetCapital)\n",
    "The capital attributes I wanted to investigate, my intention was to find a pattern in the dates claims were made and analyse the net average capital on that day. To this I summed the capital gain and loss for each column, using a helper function I got the mean for values on that date. Although this was not entirely insightful, I did notice the net averages were tighter at the start of the recordings and spread out towards later in the year, from this I found there could be possibly outliers in the capital loss / capital gain."
   ]
  },
  {
   "cell_type": "code",
   "execution_count": 10,
   "id": "87596139",
   "metadata": {},
   "outputs": [],
   "source": [
    "def avg_dup_dates(dates, full_df):\n",
    "    new_df = []\n",
    "    for date in dates:\n",
    "        net_mean = full_df[full_df[\"DateOfIncident\"] == date][\"CapitalNet\"].mean()\n",
    "        new_df.append([date, net_mean])\n",
    "    return pd.DataFrame(new_df)"
   ]
  },
  {
   "cell_type": "code",
   "execution_count": 11,
   "id": "0e10040f",
   "metadata": {
    "scrolled": true
   },
   "outputs": [
    {
     "data": {
      "image/png": "[encoded data removed]",
      "text/plain": [
       "<Figure size 720x360 with 1 Axes>"
      ]
     },
     "metadata": {
      "needs_background": "light"
     },
     "output_type": "display_data"
    }
   ],
   "source": [
    "full_df[\"CapitalNet\"] = full_df[\"CapitalLoss\"] + full_df[\"CapitalGains\"]\n",
    "full_df[\"DateOfIncident\"] = pd.to_datetime(full_df[\"DateOfIncident\"])\n",
    "\n",
    "dates = sorted(full_df[\"DateOfIncident\"].unique())\n",
    "\n",
    "net_frauds = avg_dup_dates(dates, full_df[fraud])\n",
    "net_not_frauds = avg_dup_dates(dates, full_df[not_fraud])\n",
    "\n",
    "fig, ax = plt.subplots(figsize=(10,5))\n",
    "x1, y1 = net_frauds[0], net_frauds[1]\n",
    "x2, y2 = net_not_frauds[0], net_not_frauds[1]\n",
    "\n",
    "ax.plot_date(x1, y1, fmt=\".\") # Fraud\n",
    "ax.plot_date(x2, y2, fmt=\"x\") # not Fraud\n",
    "\n",
    "ax.set(xlabel=\"Date of Claims\",\n",
    "       ylabel=\"Net Average\",\n",
    "       title=\"Net Capital Average by day for fraud vs non-fraud cases \\n Jan - Mar 2015\")\n",
    "\n",
    "plt.show()"
   ]
  },
  {
   "cell_type": "markdown",
   "id": "48d6f564",
   "metadata": {},
   "source": [
    "#### 3.2.4 Creating New Attribute (Net Capital)\n",
    "As mentioned previously, I wanted to create a new Net Capital attribute, I found in my analysis there could be enough petterns between fraud and non fraud cases that it may be a strong attribute for future models.\n",
    "\n",
    "I will make a transformer class that can be added to a future pipeline in the following cell. This will allow me to add or remove the attribute easily when fine tuning the models."
   ]
  },
  {
   "cell_type": "code",
   "execution_count": 12,
   "id": "dbfa4dc5",
   "metadata": {},
   "outputs": [],
   "source": [
    "from sklearn.base import BaseEstimator, TransformerMixin\n",
    "# The class will inherit from the above classes, this will allow the transformer\n",
    "# to be used with scikits pipeline classes\n",
    "\n",
    "class CombineAttributes(BaseEstimator, TransformerMixin):\n",
    "    def __init__(self, add_location=True):\n",
    "        self.add_location = add_location\n",
    "    def fit(self, X, y=None):\n",
    "        return None\n",
    "    def transform(self, X):\n",
    "        X[\"NetCapital\"] = X[\"CapitalGains\"] + X[\"CapitalLoss\"]\n",
    "        if add_location:\n",
    "            X[\"IncidentArea\"] = X[\"IncidentState\"] + \" \" + X[\"IncidentCity\"]\n",
    "        return X"
   ]
  },
  {
   "cell_type": "markdown",
   "id": "aed0bcf4",
   "metadata": {},
   "source": [
    "### 3.3 Dealing with Missing Values\n",
    "There are 3 columns I have identified as having problematic missing values, there are two ways I'd like to deal with these.\n",
    "\n",
    "Solution 1: Drop the rows associated with the values as it is such a small sample size of the entire dataset. \n",
    "\n",
    "Solution 2: I impute the missing values, \"IncidentTime\" and \"Witnesses\" I will impute with the most common values and for \"AmountOfTotalClaim\" I can attempt to sum the other claim columns or take the mean value given there are no major outliers.\n",
    "\n",
    "Solution 2 would allow me to preserve the distribution, therefore I will first explore imputation to fill the small amount of missing values.\n",
    "\n",
    "Below I will make a transformer class for solution 1 incase I want to explore this later, for now I will impute the missing values."
   ]
  },
  {
   "cell_type": "code",
   "execution_count": 14,
   "id": "74c9147b",
   "metadata": {},
   "outputs": [
    {
     "name": "stdout",
     "output_type": "stream",
     "text": [
      "IncidentTime: 31\n",
      "Witnesses: 46\n",
      "AmountOfTotalClaim: 50\n"
     ]
    }
   ],
   "source": [
    "inctime, witnesses, aot_claim = len(full_df[full_df[\"IncidentTime\"] == -5]), len(full_df[full_df[\"Witnesses\"] == \"MISSINGVALUE\"]), len(full_df[full_df[\"AmountOfTotalClaim\"] == \"MISSEDDATA\"])\n",
    "print(f\"IncidentTime: {inctime}\")\n",
    "print(f\"Witnesses: {witnesses}\")\n",
    "print(f\"AmountOfTotalClaim: {aot_claim}\")"
   ]
  },
  {
   "cell_type": "code",
   "execution_count": 15,
   "id": "878bc740",
   "metadata": {},
   "outputs": [],
   "source": [
    "class RemoveMissingValues(BaseEstimator, TransformerMixin):\n",
    "    def __init__(self, incident_time=True, witnesses=True, totalclaim=True):\n",
    "        self.incident_time = incident_time\n",
    "        self.witnesses = witnesses\n",
    "        self.totalclaim = totalclaim\n",
    "        \n",
    "    def fit(self, X, y=None):\n",
    "        return None\n",
    "    \n",
    "    def transform(self, X, y=None):\n",
    "        if self.incident_time:\n",
    "            time_missing = X[X[\"IncidentTime\"] == -5].index\n",
    "            X, y = X.drop(time_missing), y.drop(time_missing)\n",
    "            \n",
    "        if self.witnesses:\n",
    "            witnesses_missing = X[X[\"Witnesses\"] == \"MISSINGVALUE\"].index\n",
    "            X, y= X.drop(witnesses_missing), y.drop(witnesses_missing)\n",
    "        \n",
    "        if self.totalclaim:\n",
    "            totalclaim_missing = X[X[\"AmountOfTotalClaim\"] == \"MISSEDDATA\"].index\n",
    "            X, y = X.drop(totalclaim_missing), y.drop(totalclaim_missing)\n",
    "        \n",
    "        return X, y"
   ]
  },
  {
   "cell_type": "markdown",
   "id": "027090ea",
   "metadata": {},
   "source": [
    "### 3.4 Dealing with duplicate values\n",
    "Below is some breif investigating of duplicate values, I checked the dataset for duplicate rows by checking the rows against each other without the customerID as this is a confirmed primary key for the dataset, which are always unique. My theory here is that there could be some duplicate claims with different CustomerID's however I did not find any.\n",
    "\n",
    "I decided to check some of the columns, I noted that the country attribute had only 1 unique value. I will consider this when creating the pipeline, by keeping this feature it would cause a bias in future models, its not a guarentee based on the case study that all future claims will be from india specificially."
   ]
  },
  {
   "cell_type": "code",
   "execution_count": 16,
   "id": "475f068e",
   "metadata": {},
   "outputs": [
    {
     "data": {
      "text/plain": [
       "False    28836\n",
       "dtype: int64"
      ]
     },
     "execution_count": 16,
     "metadata": {},
     "output_type": "execute_result"
    }
   ],
   "source": [
    "# Checking if any rows are duplicated, expluding the customerID\n",
    "full_df.drop([\"CustomerID\"], axis=1).duplicated().value_counts()"
   ]
  },
  {
   "cell_type": "code",
   "execution_count": 17,
   "id": "c5056244",
   "metadata": {},
   "outputs": [
    {
     "data": {
      "text/plain": [
       "India    28834\n",
       "Name: Country, dtype: int64"
      ]
     },
     "execution_count": 17,
     "metadata": {},
     "output_type": "execute_result"
    }
   ],
   "source": [
    "# Country is not a useful column to keep as all values\n",
    "full_df[\"Country\"].value_counts()"
   ]
  },
  {
   "cell_type": "markdown",
   "id": "72811a96",
   "metadata": {},
   "source": [
    "### 3.5 Dealing with Outliers"
   ]
  },
  {
   "cell_type": "code",
   "execution_count": 18,
   "id": "1492ed8b",
   "metadata": {},
   "outputs": [],
   "source": [
    "class OutlierManager(BaseEstimator, TransformerMixin):\n",
    "    def __init__(self):\n",
    "        return None\n",
    "    \n",
    "    def fit(self, X, y=None):\n",
    "        return None\n",
    "    \n",
    "    def transform(self, X, y):\n",
    "        policyprem_outliers = X[X[\"PolicyAnnualPremium\"] < 0].index\n",
    "        X, y = X.drop(policyprem_outliers), y.drop(policyprem_outliers)\n",
    "        \n",
    "        return X, y"
   ]
  },
  {
   "cell_type": "markdown",
   "id": "e6dd851f",
   "metadata": {},
   "source": [
    "#### 3.6.1 Identifying Potential Outliers\n",
    "Previously it was noted that CapitalNet had some potential outliers, to investigate further, below I have used pandas describe() function to outline some of the key metrics for each feature.\n",
    "\n",
    "CapitalNet: The maximum and minimum values are quite distant from the mean, indicating possible outliers."
   ]
  },
  {
   "cell_type": "code",
   "execution_count": 19,
   "id": "9a4cc6da",
   "metadata": {},
   "outputs": [
    {
     "data": {
      "text/html": [
       "<div>\n",
       "<style scoped>\n",
       "    .dataframe tbody tr th:only-of-type {\n",
       "        vertical-align: middle;\n",
       "    }\n",
       "\n",
       "    .dataframe tbody tr th {\n",
       "        vertical-align: top;\n",
       "    }\n",
       "\n",
       "    .dataframe thead th {\n",
       "        text-align: right;\n",
       "    }\n",
       "</style>\n",
       "<table border=\"1\" class=\"dataframe\">\n",
       "  <thead>\n",
       "    <tr style=\"text-align: right;\">\n",
       "      <th></th>\n",
       "      <th>IncidentTime</th>\n",
       "      <th>NumberOfVehicles</th>\n",
       "      <th>BodilyInjuries</th>\n",
       "      <th>AmountOfInjuryClaim</th>\n",
       "      <th>AmountOfPropertyClaim</th>\n",
       "      <th>AmountOfVehicleDamage</th>\n",
       "      <th>InsuredAge</th>\n",
       "      <th>InsuredZipCode</th>\n",
       "      <th>CapitalGains</th>\n",
       "      <th>CapitalLoss</th>\n",
       "      <th>InsurancePolicyNumber</th>\n",
       "      <th>CustomerLoyaltyPeriod</th>\n",
       "      <th>Policy_Deductible</th>\n",
       "      <th>PolicyAnnualPremium</th>\n",
       "      <th>UmbrellaLimit</th>\n",
       "      <th>CapitalNet</th>\n",
       "    </tr>\n",
       "  </thead>\n",
       "  <tbody>\n",
       "    <tr>\n",
       "      <th>count</th>\n",
       "      <td>28836.000000</td>\n",
       "      <td>28836.000000</td>\n",
       "      <td>28836.000000</td>\n",
       "      <td>28836.000000</td>\n",
       "      <td>28836.000000</td>\n",
       "      <td>28836.000000</td>\n",
       "      <td>28836.000000</td>\n",
       "      <td>28836.000000</td>\n",
       "      <td>28836.000000</td>\n",
       "      <td>28836.000000</td>\n",
       "      <td>28836.000000</td>\n",
       "      <td>28836.000000</td>\n",
       "      <td>28836.000000</td>\n",
       "      <td>28836.000000</td>\n",
       "      <td>2.883600e+04</td>\n",
       "      <td>28836.000000</td>\n",
       "    </tr>\n",
       "    <tr>\n",
       "      <th>mean</th>\n",
       "      <td>11.746047</td>\n",
       "      <td>1.823207</td>\n",
       "      <td>0.985782</td>\n",
       "      <td>7337.118428</td>\n",
       "      <td>7283.870197</td>\n",
       "      <td>37687.129387</td>\n",
       "      <td>38.815370</td>\n",
       "      <td>502436.579068</td>\n",
       "      <td>23066.569566</td>\n",
       "      <td>-24940.612429</td>\n",
       "      <td>129312.517097</td>\n",
       "      <td>203.067867</td>\n",
       "      <td>1114.282529</td>\n",
       "      <td>1255.528382</td>\n",
       "      <td>9.836680e+05</td>\n",
       "      <td>-1874.042863</td>\n",
       "    </tr>\n",
       "    <tr>\n",
       "      <th>std</th>\n",
       "      <td>6.170069</td>\n",
       "      <td>0.980099</td>\n",
       "      <td>0.784764</td>\n",
       "      <td>4427.638593</td>\n",
       "      <td>4375.842738</td>\n",
       "      <td>17977.048232</td>\n",
       "      <td>7.996377</td>\n",
       "      <td>72250.868871</td>\n",
       "      <td>27637.813724</td>\n",
       "      <td>27913.209608</td>\n",
       "      <td>11114.060267</td>\n",
       "      <td>99.932951</td>\n",
       "      <td>546.632816</td>\n",
       "      <td>223.013899</td>\n",
       "      <td>1.969282e+06</td>\n",
       "      <td>38285.827348</td>\n",
       "    </tr>\n",
       "    <tr>\n",
       "      <th>min</th>\n",
       "      <td>-5.000000</td>\n",
       "      <td>1.000000</td>\n",
       "      <td>0.000000</td>\n",
       "      <td>0.000000</td>\n",
       "      <td>0.000000</td>\n",
       "      <td>109.000000</td>\n",
       "      <td>19.000000</td>\n",
       "      <td>430104.000000</td>\n",
       "      <td>0.000000</td>\n",
       "      <td>-111100.000000</td>\n",
       "      <td>110122.000000</td>\n",
       "      <td>1.000000</td>\n",
       "      <td>500.000000</td>\n",
       "      <td>-1.000000</td>\n",
       "      <td>-1.000000e+06</td>\n",
       "      <td>-111100.000000</td>\n",
       "    </tr>\n",
       "    <tr>\n",
       "      <th>25%</th>\n",
       "      <td>6.000000</td>\n",
       "      <td>1.000000</td>\n",
       "      <td>0.000000</td>\n",
       "      <td>4743.750000</td>\n",
       "      <td>4862.000000</td>\n",
       "      <td>32193.250000</td>\n",
       "      <td>33.000000</td>\n",
       "      <td>448603.000000</td>\n",
       "      <td>0.000000</td>\n",
       "      <td>-50000.000000</td>\n",
       "      <td>119698.750000</td>\n",
       "      <td>126.000000</td>\n",
       "      <td>622.000000</td>\n",
       "      <td>1122.007500</td>\n",
       "      <td>0.000000e+00</td>\n",
       "      <td>-31600.000000</td>\n",
       "    </tr>\n",
       "    <tr>\n",
       "      <th>50%</th>\n",
       "      <td>12.000000</td>\n",
       "      <td>1.000000</td>\n",
       "      <td>1.000000</td>\n",
       "      <td>7147.000000</td>\n",
       "      <td>7051.000000</td>\n",
       "      <td>42457.500000</td>\n",
       "      <td>38.000000</td>\n",
       "      <td>466691.000000</td>\n",
       "      <td>0.000000</td>\n",
       "      <td>0.000000</td>\n",
       "      <td>129278.500000</td>\n",
       "      <td>199.000000</td>\n",
       "      <td>1000.000000</td>\n",
       "      <td>1265.205000</td>\n",
       "      <td>0.000000e+00</td>\n",
       "      <td>0.000000</td>\n",
       "    </tr>\n",
       "    <tr>\n",
       "      <th>75%</th>\n",
       "      <td>17.000000</td>\n",
       "      <td>3.000000</td>\n",
       "      <td>2.000000</td>\n",
       "      <td>10571.250000</td>\n",
       "      <td>10327.000000</td>\n",
       "      <td>49535.750000</td>\n",
       "      <td>44.000000</td>\n",
       "      <td>603848.000000</td>\n",
       "      <td>49000.000000</td>\n",
       "      <td>0.000000</td>\n",
       "      <td>138933.250000</td>\n",
       "      <td>267.000000</td>\n",
       "      <td>1627.000000</td>\n",
       "      <td>1396.605000</td>\n",
       "      <td>4.859610e+05</td>\n",
       "      <td>21500.000000</td>\n",
       "    </tr>\n",
       "    <tr>\n",
       "      <th>max</th>\n",
       "      <td>23.000000</td>\n",
       "      <td>4.000000</td>\n",
       "      <td>2.000000</td>\n",
       "      <td>21450.000000</td>\n",
       "      <td>23670.000000</td>\n",
       "      <td>79560.000000</td>\n",
       "      <td>64.000000</td>\n",
       "      <td>620962.000000</td>\n",
       "      <td>100500.000000</td>\n",
       "      <td>0.000000</td>\n",
       "      <td>148619.000000</td>\n",
       "      <td>479.000000</td>\n",
       "      <td>2000.000000</td>\n",
       "      <td>2047.590000</td>\n",
       "      <td>1.000000e+07</td>\n",
       "      <td>100500.000000</td>\n",
       "    </tr>\n",
       "  </tbody>\n",
       "</table>\n",
       "</div>"
      ],
      "text/plain": [
       "       IncidentTime  NumberOfVehicles  BodilyInjuries  AmountOfInjuryClaim  \\\n",
       "count  28836.000000      28836.000000    28836.000000         28836.000000   \n",
       "mean      11.746047          1.823207        0.985782          7337.118428   \n",
       "std        6.170069          0.980099        0.784764          4427.638593   \n",
       "min       -5.000000          1.000000        0.000000             0.000000   \n",
       "25%        6.000000          1.000000        0.000000          4743.750000   \n",
       "50%       12.000000          1.000000        1.000000          7147.000000   \n",
       "75%       17.000000          3.000000        2.000000         10571.250000   \n",
       "max       23.000000          4.000000        2.000000         21450.000000   \n",
       "\n",
       "       AmountOfPropertyClaim  AmountOfVehicleDamage    InsuredAge  \\\n",
       "count           28836.000000           28836.000000  28836.000000   \n",
       "mean             7283.870197           37687.129387     38.815370   \n",
       "std              4375.842738           17977.048232      7.996377   \n",
       "min                 0.000000             109.000000     19.000000   \n",
       "25%              4862.000000           32193.250000     33.000000   \n",
       "50%              7051.000000           42457.500000     38.000000   \n",
       "75%             10327.000000           49535.750000     44.000000   \n",
       "max             23670.000000           79560.000000     64.000000   \n",
       "\n",
       "       InsuredZipCode   CapitalGains    CapitalLoss  InsurancePolicyNumber  \\\n",
       "count    28836.000000   28836.000000   28836.000000           28836.000000   \n",
       "mean    502436.579068   23066.569566  -24940.612429          129312.517097   \n",
       "std      72250.868871   27637.813724   27913.209608           11114.060267   \n",
       "min     430104.000000       0.000000 -111100.000000          110122.000000   \n",
       "25%     448603.000000       0.000000  -50000.000000          119698.750000   \n",
       "50%     466691.000000       0.000000       0.000000          129278.500000   \n",
       "75%     603848.000000   49000.000000       0.000000          138933.250000   \n",
       "max     620962.000000  100500.000000       0.000000          148619.000000   \n",
       "\n",
       "       CustomerLoyaltyPeriod  Policy_Deductible  PolicyAnnualPremium  \\\n",
       "count           28836.000000       28836.000000         28836.000000   \n",
       "mean              203.067867        1114.282529          1255.528382   \n",
       "std                99.932951         546.632816           223.013899   \n",
       "min                 1.000000         500.000000            -1.000000   \n",
       "25%               126.000000         622.000000          1122.007500   \n",
       "50%               199.000000        1000.000000          1265.205000   \n",
       "75%               267.000000        1627.000000          1396.605000   \n",
       "max               479.000000        2000.000000          2047.590000   \n",
       "\n",
       "       UmbrellaLimit     CapitalNet  \n",
       "count   2.883600e+04   28836.000000  \n",
       "mean    9.836680e+05   -1874.042863  \n",
       "std     1.969282e+06   38285.827348  \n",
       "min    -1.000000e+06 -111100.000000  \n",
       "25%     0.000000e+00  -31600.000000  \n",
       "50%     0.000000e+00       0.000000  \n",
       "75%     4.859610e+05   21500.000000  \n",
       "max     1.000000e+07  100500.000000  "
      ]
     },
     "execution_count": 19,
     "metadata": {},
     "output_type": "execute_result"
    }
   ],
   "source": [
    "full_df.describe()"
   ]
  },
  {
   "cell_type": "markdown",
   "id": "8a8eb677",
   "metadata": {},
   "source": [
    "### 3.7 Dealing with Collinearity"
   ]
  },
  {
   "cell_type": "code",
   "execution_count": 20,
   "id": "a0914cd2",
   "metadata": {},
   "outputs": [
    {
     "data": {
      "image/png": "[encoded data removed]",
      "text/plain": [
       "<Figure size 1368x1080 with 2 Axes>"
      ]
     },
     "metadata": {
      "needs_background": "light"
     },
     "output_type": "display_data"
    }
   ],
   "source": [
    "from sklearn.preprocessing import LabelEncoder\n",
    "\n",
    "\n",
    "f = plt.figure(figsize=(19, 15))\n",
    "plt.matshow(full_df.corr(), fignum=f.number)\n",
    "plt.xticks(range(full_df.select_dtypes(['number']).shape[1]), full_df.select_dtypes(['number']).columns, fontsize=14, rotation=45)\n",
    "plt.yticks(range(full_df.select_dtypes(['number']).shape[1]), full_df.select_dtypes(['number']).columns, fontsize=14)\n",
    "cb = plt.colorbar()\n",
    "cb.ax.tick_params(labelsize=14)\n",
    "plt.title('Correlation Matrix', fontsize=16);"
   ]
  },
  {
   "cell_type": "markdown",
   "id": "62e54ae2",
   "metadata": {},
   "source": [
    "### 3.8 Preparing Text and Categorical Attributes"
   ]
  },
  {
   "cell_type": "code",
   "execution_count": 21,
   "id": "c1964707",
   "metadata": {
    "scrolled": false
   },
   "outputs": [
    {
     "data": {
      "text/plain": [
       "['IncidentTime',\n",
       " 'NumberOfVehicles',\n",
       " 'BodilyInjuries',\n",
       " 'AmountOfInjuryClaim',\n",
       " 'AmountOfPropertyClaim',\n",
       " 'AmountOfVehicleDamage',\n",
       " 'InsuredAge',\n",
       " 'InsuredZipCode',\n",
       " 'CapitalGains',\n",
       " 'CapitalLoss',\n",
       " 'InsurancePolicyNumber',\n",
       " 'CustomerLoyaltyPeriod',\n",
       " 'Policy_Deductible',\n",
       " 'PolicyAnnualPremium',\n",
       " 'UmbrellaLimit']"
      ]
     },
     "execution_count": 21,
     "metadata": {},
     "output_type": "execute_result"
    }
   ],
   "source": [
    "categorical_attributes = x_train.select_dtypes(include=['object']).columns\n",
    "numerical_attributes = [col for col in x_train.columns if col not in categorical_attributes]\n",
    "numerical_attributes"
   ]
  },
  {
   "cell_type": "markdown",
   "id": "97d4a19e",
   "metadata": {},
   "source": [
    "#### 3.8.1 Encoding categorical attributes with ordinal encoding"
   ]
  },
  {
   "cell_type": "code",
   "execution_count": 22,
   "id": "5381832c",
   "metadata": {
    "scrolled": true
   },
   "outputs": [
    {
     "data": {
      "text/plain": [
       "array([[1.6800e+04, 5.7000e+01, 0.0000e+00, ..., 0.0000e+00, 1.0000e+00,\n",
       "        0.0000e+00],\n",
       "       [1.5481e+04, 3.8000e+01, 0.0000e+00, ..., 1.0000e+00, 1.0000e+00,\n",
       "        3.0000e+00],\n",
       "       [2.0870e+03, 1.6000e+01, 3.0000e+00, ..., 0.0000e+00, 6.0000e+00,\n",
       "        0.0000e+00],\n",
       "       ...,\n",
       "       [9.4920e+03, 1.3000e+01, 0.0000e+00, ..., 2.0000e+00, 1.0000e+00,\n",
       "        3.0000e+00],\n",
       "       [6.9250e+03, 4.6000e+01, 0.0000e+00, ..., 1.0000e+00, 2.0000e+00,\n",
       "        1.0000e+00],\n",
       "       [8.6780e+03, 2.0000e+00, 2.0000e+00, ..., 0.0000e+00, 1.0000e+00,\n",
       "        1.0000e+00]])"
      ]
     },
     "execution_count": 22,
     "metadata": {},
     "output_type": "execute_result"
    }
   ],
   "source": [
    "from sklearn.preprocessing import OrdinalEncoder\n",
    "\n",
    "ord_encoder = OrdinalEncoder()\n",
    "claims_cat = x_train[categorical_attributes]\n",
    "claims_cat_encoded = ord_encoder.fit_transform(claims_cat)\n",
    "claims_cat_encoded"
   ]
  },
  {
   "cell_type": "markdown",
   "id": "99c57668",
   "metadata": {},
   "source": [
    "#### 3.8.1 Encoding categorical attributes with OneHot Encoding"
   ]
  },
  {
   "cell_type": "code",
   "execution_count": 23,
   "id": "9ec19c8e",
   "metadata": {},
   "outputs": [
    {
     "data": {
      "text/plain": [
       "array([[0., 0., 0., ..., 0., 0., 0.],\n",
       "       [0., 0., 0., ..., 1., 0., 0.],\n",
       "       [0., 0., 0., ..., 0., 0., 0.],\n",
       "       ...,\n",
       "       [0., 0., 0., ..., 1., 0., 0.],\n",
       "       [0., 0., 0., ..., 0., 0., 0.],\n",
       "       [0., 0., 0., ..., 0., 0., 0.]])"
      ]
     },
     "execution_count": 23,
     "metadata": {},
     "output_type": "execute_result"
    }
   ],
   "source": [
    "from sklearn.preprocessing import OneHotEncoder\n",
    "\n",
    "oh_encoder = OneHotEncoder()\n",
    "claims_cat = x_train[categorical_attributes]\n",
    "claims_cat_1h_encoded = oh_encoder.fit_transform(claims_cat)\n",
    "claims_cat_1h_encoded.toarray()"
   ]
  },
  {
   "cell_type": "markdown",
   "id": "86577cf7",
   "metadata": {},
   "source": [
    "### 3.9 Creating the Pre-Processing Pipeline"
   ]
  },
  {
   "cell_type": "code",
   "execution_count": 24,
   "id": "cb2d90fc",
   "metadata": {},
   "outputs": [],
   "source": [
    "from sklearn.pipeline import Pipeline\n",
    "from sklearn.preprocessing import StandardScaler, OneHotEncoder, LabelBinarizer\n",
    "from sklearn.compose import ColumnTransformer\n",
    "from sklearn.impute import SimpleImputer"
   ]
  },
  {
   "cell_type": "code",
   "execution_count": 25,
   "id": "480d67c4",
   "metadata": {},
   "outputs": [],
   "source": [
    "totalclaim_missing_idx = x_train[x_train[\"AmountOfTotalClaim\"] == \"MISSEDDATA\"].index\n",
    "x_train, y_train = x_train.drop(totalclaim_missing_idx), y_train.drop(totalclaim_missing_idx)\n",
    "x_train[\"NetCapital\"] = x_train[\"CapitalGains\"] + x_train[\"CapitalLoss\"]\n",
    "x_train[\"AmountOfTotalClaim\"] = x_train[\"AmountOfTotalClaim\"].astype('int')\n",
    "\n",
    "totalclaim_missing_idx_test = x_test[x_test[\"AmountOfTotalClaim\"] == \"MISSEDDATA\"].index\n",
    "x_test, y_test = x_test.drop(totalclaim_missing_idx_test), y_test.drop(totalclaim_missing_idx_test)\n",
    "x_test[\"NetCapital\"] = x_test[\"CapitalGains\"] + x_test[\"CapitalLoss\"]\n",
    "x_test[\"AmountOfTotalClaim\"] = x_test[\"AmountOfTotalClaim\"].astype('int')"
   ]
  },
  {
   "cell_type": "code",
   "execution_count": 26,
   "id": "4ddbd2fd",
   "metadata": {},
   "outputs": [],
   "source": [
    "cat_attributes = [\n",
    "    \"IncidentTime\",\n",
    "    \"Witnesses\",\n",
    "    \"SeverityOfIncident\",\n",
    "    \"AuthoritiesContacted\",\n",
    "    \"PropertyDamage\",\n",
    "    \"InsuredOccupation\",\n",
    "    \"InsuredHobbies\",\n",
    "    \"DateOfPolicyCoverage\",\n",
    "    \"Policy_CombinedSingleLimit\",\n",
    "    \"InsuredRelationship\",\n",
    "]\n",
    "\n",
    "num_attributes = [\n",
    "    \"NumberOfVehicles\",\n",
    "    \"BodilyInjuries\",\n",
    "    \"AmountOfTotalClaim\",\n",
    "    \"AmountOfInjuryClaim\",\n",
    "    \"AmountOfPropertyClaim\",\n",
    "    \"AmountOfVehicleDamage\",\n",
    "    \"InsuredAge\",\n",
    "    \"CapitalGains\",\n",
    "    \"CapitalLoss\",\n",
    "    \"InsurancePolicyNumber\",\n",
    "    \"CustomerLoyaltyPeriod\",\n",
    "    \"Policy_Deductible\",\n",
    "    \"PolicyAnnualPremium\",\n",
    "    \"NetCapital\",\n",
    "]\n",
    "\n",
    "cat_idx = [x_train.columns.get_loc(i) for i in cat_attributes]\n",
    "num_idx = [x_train.columns.get_loc(i) for i in num_attributes]\n",
    "inc_time_idx = x_train.columns.get_loc('IncidentTime')\n",
    "wit_idx = x_train.columns.get_loc('Witnesses')"
   ]
  },
  {
   "cell_type": "code",
   "execution_count": 27,
   "id": "8aaf3b3a",
   "metadata": {},
   "outputs": [],
   "source": [
    "lb_train = LabelBinarizer()\n",
    "lb_test = LabelBinarizer()\n",
    "\n",
    "y_train, y_test = pd.DataFrame(lb_train.fit_transform(y_train)), pd.DataFrame(lb_test.fit_transform(y_test))\n",
    "\n",
    "cat_transformer = Pipeline([\n",
    "    (\"impute_incident_time\", SimpleImputer(missing_values=-5, strategy='most_frequent')), \n",
    "    (\"impute_witnesses\", SimpleImputer(missing_values=\"MISSINGVALUE\", strategy='most_frequent')),\n",
    "    (\"1h_encoder\", OneHotEncoder(handle_unknown='ignore'))]\n",
    ")\n",
    "\n",
    "num_transformer = Pipeline([\n",
    "    (\"std_scaler\", StandardScaler())]\n",
    ")\n",
    "\n",
    "full_pipeline = ColumnTransformer(\n",
    "    transformers = [\n",
    "        (\"num\", num_transformer, num_attributes), \n",
    "        (\"cat\", cat_transformer, cat_attributes)\n",
    "    ]\n",
    ")"
   ]
  },
  {
   "cell_type": "code",
   "execution_count": 28,
   "id": "e8b022c0",
   "metadata": {},
   "outputs": [],
   "source": [
    "data_prepared = full_pipeline.fit_transform(x_train)"
   ]
  },
  {
   "cell_type": "markdown",
   "id": "a5baccad",
   "metadata": {},
   "source": [
    "## 4 Technique 1 - Classification, Decision Tree Classifier"
   ]
  },
  {
   "cell_type": "code",
   "execution_count": 31,
   "id": "6605b6cb",
   "metadata": {
    "scrolled": false
   },
   "outputs": [
    {
     "data": {
      "text/plain": [
       "DecisionTreeClassifier(random_state=42)"
      ]
     },
     "execution_count": 31,
     "metadata": {},
     "output_type": "execute_result"
    }
   ],
   "source": [
    "from sklearn.tree import DecisionTreeClassifier, plot_tree\n",
    "\n",
    "tree_clf_gini = DecisionTreeClassifier(criterion=\"gini\", splitter=\"best\", random_state=42)\n",
    "tree_clf_gini.fit(data_prepared, y_train) "
   ]
  },
  {
   "cell_type": "markdown",
   "id": "7893f85b",
   "metadata": {},
   "source": [
    "### 4.1 Motivation for choosing the technique and provide a schematic figure of the process\n",
    "Based on the dataset provided it's been determined that the task is a binary classification problem. Early in my analysis, I identified many categorical attributes that had some strong patterns. My first thought was to explore the possibility of training DecisionTreeModel, due to the large amounts of categorical attributes.\n",
    "\n",
    "The Decision Tree Classifier can branch using the categorical attributes, this allows for intuitive and interpretable decision-making. I will explore various hyper parameters such as changing the depth and or the criterion.\n",
    "\n",
    "Another reason for the decision tree, is there was a large amount of categorical attributes with missing info usually represented with \"?\", instead of removeing or imputing these values, I left them so they could be used as other categories which will naturally be branched by the decision tree.\n",
    "\n",
    "Below is an example of a Decision Tree Classifier with a max depth of 3 to illustrate the form a decision tree takes and how decisions are made for each case."
   ]
  },
  {
   "cell_type": "code",
   "execution_count": 32,
   "id": "bfe4e182",
   "metadata": {},
   "outputs": [
    {
     "data": {
      "image/png": "[encoded data removed]",
      "text/plain": [
       "<Figure size 1080x432 with 1 Axes>"
      ]
     },
     "metadata": {
      "needs_background": "light"
     },
     "output_type": "display_data"
    }
   ],
   "source": [
    "tree_clf_dep3 = DecisionTreeClassifier(max_depth=3, splitter=\"best\", random_state=42)\n",
    "tree_clf_dep3.fit(data_prepared, y_train)\n",
    "\n",
    "plt.figure(figsize=(15,6))\n",
    "plot_tree(tree_clf_dep3)\n",
    "plt.show()"
   ]
  },
  {
   "cell_type": "markdown",
   "id": "90e0b014",
   "metadata": {},
   "source": [
    "### 4.2 Setting hyper parameters with rationale\n",
    "In the following section (4.3) I will perform a grid search analysing 3 primary hyper parameters.\n",
    "\n",
    "Maximum Depth: The maximum depth of a decision tree determines the number of level/splits a model can have, I believe this to be an important factor as the deeper a tree the more chance it could lead to overfitting, and also compramise model efficiency. I will explore various depths within a reasonable range.\n",
    "\n",
    "min_samples_split & min_samples_leaf: These final two hyper parameters I will explore also, as they can be a common cause of overfitting depending on how many instance are created."
   ]
  },
  {
   "cell_type": "markdown",
   "id": "a947cee4",
   "metadata": {},
   "source": [
    "### 4.3 Optimising hyper parameters with Grid Search"
   ]
  },
  {
   "cell_type": "code",
   "execution_count": 33,
   "id": "a37ea87c",
   "metadata": {},
   "outputs": [],
   "source": [
    "tree_clf_gini = DecisionTreeClassifier(criterion=\"gini\", random_state=42)"
   ]
  },
  {
   "cell_type": "code",
   "execution_count": 34,
   "id": "32be729e",
   "metadata": {},
   "outputs": [],
   "source": [
    "from sklearn.model_selection import GridSearchCV\n",
    "from sklearn.metrics import make_scorer\n",
    "from sklearn.metrics import accuracy_score\n",
    "\n",
    "DT_GS = GridSearchCV(DecisionTreeClassifier(random_state=42),\n",
    "                  param_grid={'min_samples_split': range(2, 20, 5),\n",
    "                              'max_depth':         range(2, 20, 5),\n",
    "                              'min_samples_leaf':  range(10,50, 10)},\n",
    "                               scoring=make_scorer(accuracy_score), return_train_score=True)\n",
    "DT_GS.fit(data_prepared, y_train)\n",
    "results = DT_GS.cv_results_"
   ]
  },
  {
   "cell_type": "code",
   "execution_count": 35,
   "id": "e0a06b3e",
   "metadata": {
    "scrolled": true
   },
   "outputs": [
    {
     "name": "stdout",
     "output_type": "stream",
     "text": [
      "[0.87211183 0.87211183 0.87211183 0.87211183 0.87211183 0.87211183\n",
      " 0.87211183 0.87211183 0.87211183 0.87211183 0.87211183 0.87211183\n",
      " 0.87211183 0.87211183 0.87211183 0.87211183 0.91445167 0.91445167\n",
      " 0.91445167 0.91445167 0.91401755 0.91401755 0.91401755 0.91401755\n",
      " 0.91397402 0.91397402 0.91397402 0.91397402 0.91293179 0.91293179\n",
      " 0.91293179 0.91293179 0.92613317 0.92613317 0.92613317 0.92613317\n",
      " 0.92778356 0.92778356 0.92778356 0.92778356 0.92787032 0.92787032\n",
      " 0.92787032 0.92787032 0.92739254 0.92739254 0.92739254 0.92739254\n",
      " 0.92491733 0.92491733 0.92491733 0.92491733 0.92826122 0.92826122\n",
      " 0.92826122 0.92826122 0.92752289 0.92752289 0.92752289 0.92752289\n",
      " 0.92739254 0.92739254 0.92739254 0.92739254]\n",
      "0.9282612161920698\n",
      "0.0048104042667335275\n",
      "DecisionTreeClassifier(max_depth=17, min_samples_leaf=20, random_state=42)\n"
     ]
    }
   ],
   "source": [
    "print(results['mean_test_score'])\n",
    "print(results['mean_test_score'].max())\n",
    "print(results['std_test_score'].max())\n",
    "print(DT_GS.best_estimator_)"
   ]
  },
  {
   "cell_type": "markdown",
   "id": "c050a172",
   "metadata": {},
   "source": [
    "### 4.4 Performance metrics for training"
   ]
  },
  {
   "cell_type": "code",
   "execution_count": 36,
   "id": "080acbe5",
   "metadata": {},
   "outputs": [
    {
     "data": {
      "text/plain": [
       "DecisionTreeClassifier(max_depth=17, min_samples_leaf=20, random_state=42)"
      ]
     },
     "execution_count": 36,
     "metadata": {},
     "output_type": "execute_result"
    }
   ],
   "source": [
    "tree_clf_best = DecisionTreeClassifier(max_depth=17, min_samples_leaf=20, random_state=42)\n",
    "tree_clf_best.fit(data_prepared, y_train)"
   ]
  },
  {
   "cell_type": "code",
   "execution_count": 37,
   "id": "9d3f46e5",
   "metadata": {},
   "outputs": [
    {
     "data": {
      "text/plain": [
       "0.9317471344216742"
      ]
     },
     "execution_count": 37,
     "metadata": {},
     "output_type": "execute_result"
    }
   ],
   "source": [
    "data_test = full_pipeline.transform(x_test)\n",
    "tree_clf_best.score(data_test, y_test)"
   ]
  },
  {
   "cell_type": "code",
   "execution_count": 38,
   "id": "8904f162",
   "metadata": {},
   "outputs": [
    {
     "data": {
      "text/plain": [
       "0.26125249391790656"
      ]
     },
     "execution_count": 38,
     "metadata": {},
     "output_type": "execute_result"
    }
   ],
   "source": [
    "from sklearn.metrics import mean_squared_error, recall_score, confusion_matrix\n",
    "from sklearn.metrics import plot_confusion_matrix\n",
    "\n",
    "predictions = tree_clf_best.predict(data_test)\n",
    "\n",
    "tree_mse = mean_squared_error(y_test, predictions)\n",
    "tree_rmse = np.sqrt(tree_mse)\n",
    "tree_rmse"
   ]
  },
  {
   "cell_type": "code",
   "execution_count": 39,
   "id": "1575f508",
   "metadata": {},
   "outputs": [
    {
     "name": "stdout",
     "output_type": "stream",
     "text": [
      "Recall Micro: 0.932\n",
      "Recall Macro: 0.898\n"
     ]
    }
   ],
   "source": [
    "rs_micro = recall_score(y_test, predictions, average='micro')\n",
    "rs_macro = recall_score(y_test, predictions, average='macro')\n",
    "print(f\"Recall Micro: {rs_micro.round(3)}\")\n",
    "print(f\"Recall Macro: {rs_macro.round(3)}\")"
   ]
  },
  {
   "cell_type": "code",
   "execution_count": 40,
   "id": "e8c6dcc1",
   "metadata": {},
   "outputs": [
    {
     "data": {
      "image/png": "[encoded data removed]",
      "text/plain": [
       "<Figure size 432x288 with 2 Axes>"
      ]
     },
     "metadata": {
      "needs_background": "light"
     },
     "output_type": "display_data"
    }
   ],
   "source": [
    "from sklearn.metrics import plot_confusion_matrix, ConfusionMatrixDisplay\n",
    "\n",
    "tree_cm = confusion_matrix(y_test, predictions)\n",
    "\n",
    "color = 'white'\n",
    "tree_matrix = ConfusionMatrixDisplay(confusion_matrix=tree_cm, display_labels=tree_clf_best.classes_)\n",
    "tree_matrix.plot()\n",
    "plt.show()"
   ]
  },
  {
   "cell_type": "code",
   "execution_count": 41,
   "id": "e83cec0f",
   "metadata": {},
   "outputs": [
    {
     "name": "stdout",
     "output_type": "stream",
     "text": [
      "Accuracy: 0.9317471344216742\n",
      "Error Rate: 0.06825286557832581\n",
      "Balanced Error Rate: 0.10246202949508582\n"
     ]
    }
   ],
   "source": [
    "TP, FN, FP, TN = tree_cm[0][0], tree_cm[0][1], tree_cm[1][0], tree_cm[1][1]\n",
    "\n",
    "accuracy = (TP + TN) / (TP + FN + FP + TN)\n",
    "error_rate = (FP + FN) / (TP + FN + FP + TN)\n",
    "c1_rate = FP / (TN + FP)\n",
    "c2_rate = FN / (FN + TP)\n",
    "bal_error_rate = (c1_rate + c2_rate) / 2\n",
    "\n",
    "print(f\"Accuracy: {accuracy}\")\n",
    "print(f\"Error Rate: {error_rate}\")\n",
    "print(f\"Balanced Error Rate: {bal_error_rate}\")"
   ]
  },
  {
   "cell_type": "markdown",
   "id": "d4d1a888",
   "metadata": {},
   "source": [
    "## 5 Technique 2 - Classification, K-Nearest Neighbor Classifier"
   ]
  },
  {
   "cell_type": "code",
   "execution_count": 42,
   "id": "c865b02a",
   "metadata": {},
   "outputs": [],
   "source": [
    "from sklearn.neighbors import KNeighborsClassifier"
   ]
  },
  {
   "cell_type": "markdown",
   "id": "5d73155c",
   "metadata": {},
   "source": [
    "### 5.1 Motivation for choosing the technique and provide a schematic figure of the process\n",
    "For my second classifier I decided to create a K-Nearest Neighbor Classifier, my rationale for this decision is firstly similar to the decision tree, the data provided had a large amount of categorical attributes. Due to this a KNN should have no trouble forming decision boundaries on the data.\n",
    "\n",
    "Unlike decision trees, KNN's do not make large assumption based on the distrebution, and concidering the fraud, non_fraud distribution is quite different, I believe it would be a good idea to explore KNN models further."
   ]
  },
  {
   "cell_type": "markdown",
   "id": "44057245",
   "metadata": {},
   "source": [
    "### 5.2 Setting hyper parameters with rationale\n",
    "The KNeighborsClassifier has 3 primary hyperparameters that I will focus on.\n",
    "\n",
    "n_neighbors: This represents the number neighbors to consider when making predictions, I will start with 11 neighbors as to avoid noisy predictions.\n",
    "\n",
    "p: The p hyperparameter represents the power parameter for the \"Minkowski distance\", I'll use 2 for this always since there are two classifications, fraud, non fraud.\n",
    "\n",
    "metric: This parameter specifies the metric used to compute distance, there are many I want to explore starting with euclidean distance. This will be a key hyperparemeter that should tuned."
   ]
  },
  {
   "cell_type": "markdown",
   "id": "e8f57e11",
   "metadata": {},
   "source": [
    "### 5.3 Optimising hyper parameters"
   ]
  },
  {
   "cell_type": "code",
   "execution_count": 43,
   "id": "188275e5",
   "metadata": {},
   "outputs": [
    {
     "data": {
      "text/plain": [
       "KNeighborsClassifier(metric='euclidean', n_neighbors=11)"
      ]
     },
     "execution_count": 43,
     "metadata": {},
     "output_type": "execute_result"
    }
   ],
   "source": [
    "knn = KNeighborsClassifier(n_neighbors=11, p=2, metric=\"euclidean\")\n",
    "knn.fit(data_prepared, y_train.values.ravel())"
   ]
  },
  {
   "cell_type": "markdown",
   "id": "0c70a309",
   "metadata": {},
   "source": [
    "### 5.4 Performance metrics for training"
   ]
  },
  {
   "cell_type": "code",
   "execution_count": 44,
   "id": "bf4c18d5",
   "metadata": {
    "scrolled": true
   },
   "outputs": [
    {
     "data": {
      "text/plain": [
       "0.9399096908648836"
      ]
     },
     "execution_count": 44,
     "metadata": {},
     "output_type": "execute_result"
    }
   ],
   "source": [
    "knn.score(data_test, y_test)"
   ]
  },
  {
   "cell_type": "code",
   "execution_count": 45,
   "id": "b77db2eb",
   "metadata": {},
   "outputs": [
    {
     "data": {
      "text/plain": [
       "0.24513324771461817"
      ]
     },
     "execution_count": 45,
     "metadata": {},
     "output_type": "execute_result"
    }
   ],
   "source": [
    "knn_prediction = knn.predict(data_test)\n",
    "knn_mse = mean_squared_error(y_test, knn_prediction)\n",
    "knn_rmse = np.sqrt(knn_mse)\n",
    "knn_rmse"
   ]
  },
  {
   "cell_type": "code",
   "execution_count": 46,
   "id": "0a95875e",
   "metadata": {
    "scrolled": true
   },
   "outputs": [
    {
     "data": {
      "image/png": "[encoded data removed]",
      "text/plain": [
       "<Figure size 432x288 with 2 Axes>"
      ]
     },
     "metadata": {
      "needs_background": "light"
     },
     "output_type": "display_data"
    }
   ],
   "source": [
    "knn_cm = confusion_matrix(y_test, knn_prediction)\n",
    "\n",
    "color = 'white'\n",
    "matrix = ConfusionMatrixDisplay(confusion_matrix=knn_cm, display_labels=knn.classes_)\n",
    "matrix.plot()\n",
    "plt.show()"
   ]
  },
  {
   "cell_type": "code",
   "execution_count": 47,
   "id": "6c39d2d9",
   "metadata": {},
   "outputs": [
    {
     "name": "stdout",
     "output_type": "stream",
     "text": [
      "Accuracy: 0.9399096908648836\n",
      "Error Rate: 0.06009030913511636\n",
      "Balanced Error Rate: 0.09988968222820478\n"
     ]
    }
   ],
   "source": [
    "k_TP, k_FN, k_FP, k_TN = knn_cm[0][0], knn_cm[0][1], knn_cm[1][0], knn_cm[1][1]\n",
    "\n",
    "k_accuracy = (k_TP + k_TN) / (k_TP + k_FN + k_FP + k_TN)\n",
    "k_error_rate = (k_FP + k_FN) / (k_TP + k_FN + k_FP + k_TN)\n",
    "k_c1_rate = k_FP / (k_TN + k_FP)\n",
    "k_c2_rate = FN / (k_FN + k_TP)\n",
    "k_bal_error_rate = (k_c1_rate + k_c2_rate) / 2\n",
    "\n",
    "print(f\"Accuracy: {k_accuracy}\")\n",
    "print(f\"Error Rate: {k_error_rate}\")\n",
    "print(f\"Balanced Error Rate: {k_bal_error_rate}\")"
   ]
  },
  {
   "cell_type": "markdown",
   "id": "ab87c6bc",
   "metadata": {},
   "source": [
    "## 6 Comparison of Metrics Performance for Testing"
   ]
  },
  {
   "cell_type": "markdown",
   "id": "185c0a7a",
   "metadata": {},
   "source": [
    "### 6.1 Comparison with appropriate metrics for testing\n",
    "Although the prediction metrics at first seemed positive with accuracies of around 0.94 for both the KNN and Decision Tree models. After calulating the Balanced Error Rate for both models, they both fell to around a 10% prediction error on the new data.\n",
    "\n",
    "This means that if the client was to adopt either of these models they would be risking a 10% loss in potential fraudulant claims. I have tried to represent this below. I took the mean loss for all fraudulant total claims multipled by the total fraud claims. And then for each model mulipled by the error to get the expected loss within the time period of the data."
   ]
  },
  {
   "cell_type": "code",
   "execution_count": 48,
   "id": "8d52c66d",
   "metadata": {},
   "outputs": [
    {
     "name": "stdout",
     "output_type": "stream",
     "text": [
      "Mean Loss Loss Revenue (No model): 456389175.0\n",
      "Tree Model Expected Loss Revenue: 46762561.11\n",
      "KNN Model Expected Loss Revenue: 45588569.66\n"
     ]
    }
   ],
   "source": [
    "totalclaim_missing_idx = full_df[full_df[\"AmountOfTotalClaim\"] == \"MISSEDDATA\"].index\n",
    "full_df = full_df.drop(totalclaim_missing_idx)\n",
    "full_df[\"AmountOfTotalClaim\"] = full_df[\"AmountOfTotalClaim\"].astype('int')\n",
    "\n",
    "total_fraud = len(full_df[\"AmountOfTotalClaim\"][fraud])\n",
    "sum_fraud_claim = full_df[\"AmountOfTotalClaim\"][fraud].sum()\n",
    "mean_fraud_claim = full_df[\"AmountOfTotalClaim\"][fraud].mean()\n",
    "\n",
    "total_loss = (total_fraud * mean_fraud_claim)\n",
    "tree_potential_loss = total_loss * bal_error_rate\n",
    "knn_potential_loss = total_loss * k_bal_error_rate\n",
    "\n",
    "print(f\"Mean Loss Loss Revenue (No model): {total_loss}\")\n",
    "print(f\"Tree Model Expected Loss Revenue: {tree_potential_loss.round(2)}\")\n",
    "print(f\"KNN Model Expected Loss Revenue: {knn_potential_loss.round(2)}\")"
   ]
  },
  {
   "cell_type": "markdown",
   "id": "e3bd8ef3",
   "metadata": {},
   "source": [
    "### 6.2 Model selection"
   ]
  },
  {
   "cell_type": "markdown",
   "id": "bb1199b7",
   "metadata": {},
   "source": [
    "#### 6.2.1 ROC Curve\n",
    "A reciever operating characteristic curve (roc) will be used to show the performance of the classification models. Below I'll create a model and plot it to show the performance of the trained KNN classification model at different classification thresholds."
   ]
  },
  {
   "cell_type": "code",
   "execution_count": 49,
   "id": "0561f75e",
   "metadata": {},
   "outputs": [
    {
     "data": {
      "image/png": "[encoded data removed]",
      "text/plain": [
       "<Figure size 432x288 with 1 Axes>"
      ]
     },
     "metadata": {
      "needs_background": "light"
     },
     "output_type": "display_data"
    }
   ],
   "source": [
    "from sklearn.metrics import roc_curve\n",
    "from sklearn.metrics import roc_auc_score\n",
    "\n",
    "size = data_test.size\n",
    "knn_probs = knn.predict_proba(data_test)\n",
    "knn_probs = knn_probs[:, 1]\n",
    "ns_probs = [0 for _ in range(len(y_test))]\n",
    "\n",
    "knn_auc = roc_auc_score(y_test, knn_probs)\n",
    "ns_auc = roc_auc_score(y_test, ns_probs)\n",
    "\n",
    "ns_fpr, ns_tpr, _ = roc_curve(y_test, ns_probs)\n",
    "lr_fpr, lr_tpr, _ = roc_curve(y_test, knn_probs)\n",
    "\n",
    "plt.plot(ns_fpr, ns_tpr, linestyle='--', label='No Skill')\n",
    "plt.plot(lr_fpr, lr_tpr, marker='.', label='KNN')\n",
    "plt.xlabel('False Positive Rate')\n",
    "plt.ylabel('True Positive Rate')\n",
    "plt.title(\"ROC Curve representing the KNN classifier\")\n",
    "plt.legend()\n",
    "plt.show()"
   ]
  },
  {
   "cell_type": "markdown",
   "id": "6e6fa878",
   "metadata": {},
   "source": [
    "## 7 Final Recommendation of Best Model"
   ]
  },
  {
   "cell_type": "markdown",
   "id": "5e3742af",
   "metadata": {},
   "source": [
    "### 7.1 Discussing the results, overfitting, complexity and efficiency\n",
    "In the end for the Decision Tree and K-Nearest Neighbour models, I was receiving around about the same metrics, with the KNN model performing slightly better based on the Balanced Error Rate, which was the primary metric the client wanted to focus on. I believe both models were overfitting slightly due to poor feature selection, and lack of appropriate cross validation.\n",
    "\n",
    "I believe the Decision Tree Model ended up being to complex with far too many branches due to poor feature selection. KNN however seemed based on analysis to suit the problem better, in terms of accuracy and error rate. \n",
    "\n",
    "In terms of compiling the models the decision tree performed far slower every time to train that the KNN, again due to hyper parameters, this could be solved by decreasing the max depth and complexity of the splits."
   ]
  },
  {
   "cell_type": "markdown",
   "id": "f6d68e64",
   "metadata": {},
   "source": [
    "### 7.2 Discuss the results from a business perspective, for example, results interpretation, relevance and balance with technical perspective\n",
    "\n",
    "If there was no alternative I would put forward the KNN model with the error rate of Balanced Error Rate of 9%. Considering the distribution of fraudlant cases is around a ratio of 26:74 I believe the client would recieve a great benefit in potentially avoided fraudulant claims."
   ]
  },
  {
   "cell_type": "markdown",
   "id": "7181a968",
   "metadata": {},
   "source": [
    "## 8 Conclusion\n"
   ]
  },
  {
   "cell_type": "markdown",
   "id": "9cddfdc3",
   "metadata": {},
   "source": [
    "### 8.1 What has been successfully accomplished and what has not been successful?\n",
    "In conclusion, when comparing the Decision Tree and K-Nearest Neighbors (KNN) models, their performance metrics were similar, but the KNN model slightly outperformed the Decision Tree model based on the Balanced Error Rate, which was the primary metric of interest for the client.\n",
    "\n",
    "I feel that a error rate within 5% of the target provided by the client is a good start, and with some further hyper parameter tuning and feature selection I could achieve a closer result.\n",
    "\n",
    "Ellaborating further on feature selection, some of the transformations performed on the categorical attributes could have been varied, instead of using 1hot on all categorical attributes it would have been a better decision to use a standard encoder for the attributes with less unique values. I also believe there were more columns that could possibly have been created based on some of the numerical attributes."
   ]
  },
  {
   "cell_type": "markdown",
   "id": "171d04ed",
   "metadata": {},
   "source": [
    "### 8.2 Reflecting back on the analysis, what could you have done differently if you were to do the project again?\n",
    "Firstly, I would have taken more care encoding the categorical attributes as mentioned previously, using different encoders as appropriate.\n",
    "\n",
    "Secondly, hyper parameter tuning for the KNN model should have been far more thorough possibly using grid search as was used for the decision tree algorithm. Given the performance difference between the two models, I'm certain there would be much better result coming from the KNN with better hyperparameter tuning.\n",
    "\n",
    "Lastly, time allocation for each section of the task was poor. In future I would have made a better structured gantt chart and paired this with a kanban board to better structure a project of this scale along side studies."
   ]
  },
  {
   "cell_type": "markdown",
   "id": "2a2f3acb",
   "metadata": {},
   "source": [
    "### 8.3 Provide a wish list of future work that you would like to do\n",
    "I have been interested in reinforcement learning specifically in 3D space environemnents. I hope to start a project with tools such as unity to train nodes to perform specific tasks or adapt to their environment. I would also like to explore computer vision."
   ]
  }
 ],
 "metadata": {
  "kernelspec": {
   "display_name": "Python 3 (ipykernel)",
   "language": "python",
   "name": "python3"
  },
  "language_info": {
   "codemirror_mode": {
    "name": "ipython",
    "version": 3
   },
   "file_extension": ".py",
   "mimetype": "text/x-python",
   "name": "python",
   "nbconvert_exporter": "python",
   "pygments_lexer": "ipython3",
   "version": "3.9.12"
  }
 },
 "nbformat": 4,
 "nbformat_minor": 5
}
