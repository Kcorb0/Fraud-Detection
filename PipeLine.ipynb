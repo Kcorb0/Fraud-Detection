{
 "cells": [
  {
   "cell_type": "code",
   "execution_count": 1,
   "id": "4e553c17",
   "metadata": {},
   "outputs": [],
   "source": [
    "import pandas as pd\n",
    "import numpy as np\n",
    "import matplotlib.pyplot as plt\n",
    "import matplotlib.dates as mdates\n",
    "import sklearn\n",
    "%matplotlib inline\n",
    "\n",
    "from sklearn.pipeline import Pipeline\n",
    "from sklearn.preprocessing import StandardScaler, MinMaxScaler\n",
    "from sklearn.base import BaseEstimator, TransformerMixin\n",
    "\n",
    "# Library configurations\n",
    "pd.set_option('display.max_columns', None)\n",
    "pd.set_option('display.max_rows', None)"
   ]
  },
  {
   "cell_type": "code",
   "execution_count": 2,
   "id": "f4bdd89a",
   "metadata": {},
   "outputs": [],
   "source": [
    "# Storing the CSV files as variables\n",
    "customers_withoutTarget_csv = \"./Data/TrainData/Traindata_withoutTarget.csv\"\n",
    "customers_withTarget_csv = \"./Data/TrainData/Traindata_with_Target.csv\"\n",
    "claims_csv = \"./Data/TrainData/Train_Claim.csv\"\n",
    "demographics_csv = \"./Data/TrainData/Train_Demographics.csv\"\n",
    "policy_csv = \"./Data/TrainData/Train_Policy.csv\"\n",
    "vehicle_csv = \"./Data/TrainData/Train_Vehicle.csv\"\n",
    "\n",
    "# Converting each of the CSV data to pandas dataframes\n",
    "customers_no_target_df = pd.read_csv(customers_withoutTarget _csv)\n",
    "customers_target_df = pd.read_csv(customers_withTarget_csv)\n",
    "claims_df = pd.read_csv(claims_csv)\n",
    "demographics_df = pd.read_csv(demographics_csv)\n",
    "policy_df = pd.read_csv(policy_csv)\n",
    "vehicle_df = pd.read_csv(vehicle_csv)\n",
    "\n",
    "# Joining the data into one large dataframe for pre-processing\n",
    "df1 = pd.merge(claims_df, demographics_df, on='CustomerID')\n",
    "df2 = pd.merge(df1, policy_df, on='CustomerID')\n",
    "full_df = pd.merge(df2, customers_target_df, on='CustomerID')\n",
    "\n",
    "fraud = full_df[\"ReportedFraud\"] == \"Y\"\n",
    "not_fraud = full_df[\"ReportedFraud\"] == \"N\""
   ]
  },
  {
   "cell_type": "code",
   "execution_count": 17,
   "id": "01890aaa",
   "metadata": {},
   "outputs": [],
   "source": [
    "from sklearn.model_selection import train_test_split\n",
    "from sklearn.preprocessing import LabelBinarizer\n",
    "\n",
    "y = full_df[\"ReportedFraud\"]\n",
    "X = full_df.drop(\"ReportedFraud\", axis=1)\n",
    "\n",
    "# Splitting data and labels, stratify the datasets using the labels\n",
    "x_train, x_test, y_train, y_test = train_test_split(X, y, test_size=0.20, random_state=42, stratify=y)"
   ]
  },
  {
   "cell_type": "code",
   "execution_count": 4,
   "id": "cc2f1918",
   "metadata": {},
   "outputs": [
    {
     "data": {
      "text/html": [
       "<div>\n",
       "<style scoped>\n",
       "    .dataframe tbody tr th:only-of-type {\n",
       "        vertical-align: middle;\n",
       "    }\n",
       "\n",
       "    .dataframe tbody tr th {\n",
       "        vertical-align: top;\n",
       "    }\n",
       "\n",
       "    .dataframe thead th {\n",
       "        text-align: right;\n",
       "    }\n",
       "</style>\n",
       "<table border=\"1\" class=\"dataframe\">\n",
       "  <thead>\n",
       "    <tr style=\"text-align: right;\">\n",
       "      <th></th>\n",
       "      <th>CustomerID</th>\n",
       "      <th>DateOfIncident</th>\n",
       "      <th>TypeOfIncident</th>\n",
       "      <th>TypeOfCollission</th>\n",
       "      <th>SeverityOfIncident</th>\n",
       "      <th>AuthoritiesContacted</th>\n",
       "      <th>IncidentState</th>\n",
       "      <th>IncidentCity</th>\n",
       "      <th>IncidentAddress</th>\n",
       "      <th>IncidentTime</th>\n",
       "      <th>NumberOfVehicles</th>\n",
       "      <th>PropertyDamage</th>\n",
       "      <th>BodilyInjuries</th>\n",
       "      <th>Witnesses</th>\n",
       "      <th>PoliceReport</th>\n",
       "      <th>AmountOfTotalClaim</th>\n",
       "      <th>AmountOfInjuryClaim</th>\n",
       "      <th>AmountOfPropertyClaim</th>\n",
       "      <th>AmountOfVehicleDamage</th>\n",
       "      <th>InsuredAge</th>\n",
       "      <th>InsuredZipCode</th>\n",
       "      <th>InsuredGender</th>\n",
       "      <th>InsuredEducationLevel</th>\n",
       "      <th>InsuredOccupation</th>\n",
       "      <th>InsuredHobbies</th>\n",
       "      <th>CapitalGains</th>\n",
       "      <th>CapitalLoss</th>\n",
       "      <th>Country</th>\n",
       "      <th>InsurancePolicyNumber</th>\n",
       "      <th>CustomerLoyaltyPeriod</th>\n",
       "      <th>DateOfPolicyCoverage</th>\n",
       "      <th>InsurancePolicyState</th>\n",
       "      <th>Policy_CombinedSingleLimit</th>\n",
       "      <th>Policy_Deductible</th>\n",
       "      <th>PolicyAnnualPremium</th>\n",
       "      <th>UmbrellaLimit</th>\n",
       "      <th>InsuredRelationship</th>\n",
       "    </tr>\n",
       "  </thead>\n",
       "  <tbody>\n",
       "    <tr>\n",
       "      <th>20936</th>\n",
       "      <td>Cust35427</td>\n",
       "      <td>2015-02-27</td>\n",
       "      <td>Multi-vehicle Collision</td>\n",
       "      <td>Front Collision</td>\n",
       "      <td>Major Damage</td>\n",
       "      <td>Fire</td>\n",
       "      <td>State4</td>\n",
       "      <td>City4</td>\n",
       "      <td>Location 1756</td>\n",
       "      <td>4</td>\n",
       "      <td>3</td>\n",
       "      <td>?</td>\n",
       "      <td>2</td>\n",
       "      <td>1</td>\n",
       "      <td>YES</td>\n",
       "      <td>50565</td>\n",
       "      <td>10529</td>\n",
       "      <td>5901</td>\n",
       "      <td>34135</td>\n",
       "      <td>44</td>\n",
       "      <td>616714</td>\n",
       "      <td>MALE</td>\n",
       "      <td>Masters</td>\n",
       "      <td>prof-specialty</td>\n",
       "      <td>movies</td>\n",
       "      <td>0</td>\n",
       "      <td>0</td>\n",
       "      <td>India</td>\n",
       "      <td>144548</td>\n",
       "      <td>275</td>\n",
       "      <td>2002-10-07</td>\n",
       "      <td>State1</td>\n",
       "      <td>100/300</td>\n",
       "      <td>1000</td>\n",
       "      <td>1072.38</td>\n",
       "      <td>0</td>\n",
       "      <td>husband</td>\n",
       "    </tr>\n",
       "    <tr>\n",
       "      <th>19307</th>\n",
       "      <td>Cust33448</td>\n",
       "      <td>2015-02-08</td>\n",
       "      <td>Multi-vehicle Collision</td>\n",
       "      <td>Side Collision</td>\n",
       "      <td>Minor Damage</td>\n",
       "      <td>Other</td>\n",
       "      <td>State8</td>\n",
       "      <td>City7</td>\n",
       "      <td>Location 1025</td>\n",
       "      <td>19</td>\n",
       "      <td>3</td>\n",
       "      <td>?</td>\n",
       "      <td>2</td>\n",
       "      <td>0</td>\n",
       "      <td>?</td>\n",
       "      <td>53301</td>\n",
       "      <td>4978</td>\n",
       "      <td>4710</td>\n",
       "      <td>43613</td>\n",
       "      <td>40</td>\n",
       "      <td>444797</td>\n",
       "      <td>MALE</td>\n",
       "      <td>MD</td>\n",
       "      <td>protective-serv</td>\n",
       "      <td>sleeping</td>\n",
       "      <td>0</td>\n",
       "      <td>-40600</td>\n",
       "      <td>India</td>\n",
       "      <td>142569</td>\n",
       "      <td>227</td>\n",
       "      <td>1992-12-13</td>\n",
       "      <td>State2</td>\n",
       "      <td>100/300</td>\n",
       "      <td>1000</td>\n",
       "      <td>1441.49</td>\n",
       "      <td>0</td>\n",
       "      <td>own-child</td>\n",
       "    </tr>\n",
       "    <tr>\n",
       "      <th>2609</th>\n",
       "      <td>Cust13159</td>\n",
       "      <td>2015-01-17</td>\n",
       "      <td>Vehicle Theft</td>\n",
       "      <td>?</td>\n",
       "      <td>Trivial Damage</td>\n",
       "      <td>None</td>\n",
       "      <td>State9</td>\n",
       "      <td>City2</td>\n",
       "      <td>Location 1137</td>\n",
       "      <td>8</td>\n",
       "      <td>1</td>\n",
       "      <td>?</td>\n",
       "      <td>2</td>\n",
       "      <td>2</td>\n",
       "      <td>NO</td>\n",
       "      <td>3922</td>\n",
       "      <td>347</td>\n",
       "      <td>693</td>\n",
       "      <td>2882</td>\n",
       "      <td>38</td>\n",
       "      <td>606144</td>\n",
       "      <td>MALE</td>\n",
       "      <td>Masters</td>\n",
       "      <td>transport-moving</td>\n",
       "      <td>video-games</td>\n",
       "      <td>0</td>\n",
       "      <td>-43400</td>\n",
       "      <td>India</td>\n",
       "      <td>122280</td>\n",
       "      <td>251</td>\n",
       "      <td>2004-04-22</td>\n",
       "      <td>State1</td>\n",
       "      <td>500/1000</td>\n",
       "      <td>1507</td>\n",
       "      <td>1046.00</td>\n",
       "      <td>0</td>\n",
       "      <td>husband</td>\n",
       "    </tr>\n",
       "    <tr>\n",
       "      <th>15420</th>\n",
       "      <td>Cust28705</td>\n",
       "      <td>2015-02-25</td>\n",
       "      <td>Multi-vehicle Collision</td>\n",
       "      <td>Side Collision</td>\n",
       "      <td>Total Loss</td>\n",
       "      <td>Other</td>\n",
       "      <td>State5</td>\n",
       "      <td>City7</td>\n",
       "      <td>Location 2077</td>\n",
       "      <td>4</td>\n",
       "      <td>2</td>\n",
       "      <td>?</td>\n",
       "      <td>2</td>\n",
       "      <td>0</td>\n",
       "      <td>NO</td>\n",
       "      <td>88690</td>\n",
       "      <td>14503</td>\n",
       "      <td>14503</td>\n",
       "      <td>59684</td>\n",
       "      <td>33</td>\n",
       "      <td>449260</td>\n",
       "      <td>MALE</td>\n",
       "      <td>JD</td>\n",
       "      <td>exec-managerial</td>\n",
       "      <td>paintball</td>\n",
       "      <td>45600</td>\n",
       "      <td>-61400</td>\n",
       "      <td>India</td>\n",
       "      <td>137826</td>\n",
       "      <td>144</td>\n",
       "      <td>1996-01-22</td>\n",
       "      <td>State1</td>\n",
       "      <td>250/500</td>\n",
       "      <td>500</td>\n",
       "      <td>1216.26</td>\n",
       "      <td>3026658</td>\n",
       "      <td>other-relative</td>\n",
       "    </tr>\n",
       "    <tr>\n",
       "      <th>21007</th>\n",
       "      <td>Cust35512</td>\n",
       "      <td>2015-01-10</td>\n",
       "      <td>Single Vehicle Collision</td>\n",
       "      <td>Side Collision</td>\n",
       "      <td>Minor Damage</td>\n",
       "      <td>Fire</td>\n",
       "      <td>State7</td>\n",
       "      <td>City4</td>\n",
       "      <td>Location 1479</td>\n",
       "      <td>14</td>\n",
       "      <td>1</td>\n",
       "      <td>NO</td>\n",
       "      <td>0</td>\n",
       "      <td>0</td>\n",
       "      <td>?</td>\n",
       "      <td>62271</td>\n",
       "      <td>6367</td>\n",
       "      <td>12735</td>\n",
       "      <td>43169</td>\n",
       "      <td>47</td>\n",
       "      <td>618455</td>\n",
       "      <td>FEMALE</td>\n",
       "      <td>MD</td>\n",
       "      <td>sales</td>\n",
       "      <td>kayaking</td>\n",
       "      <td>0</td>\n",
       "      <td>-55600</td>\n",
       "      <td>India</td>\n",
       "      <td>144633</td>\n",
       "      <td>284</td>\n",
       "      <td>1992-02-10</td>\n",
       "      <td>State3</td>\n",
       "      <td>100/300</td>\n",
       "      <td>1181</td>\n",
       "      <td>1493.96</td>\n",
       "      <td>0</td>\n",
       "      <td>not-in-family</td>\n",
       "    </tr>\n",
       "  </tbody>\n",
       "</table>\n",
       "</div>"
      ],
      "text/plain": [
       "      CustomerID DateOfIncident            TypeOfIncident TypeOfCollission  \\\n",
       "20936  Cust35427     2015-02-27   Multi-vehicle Collision  Front Collision   \n",
       "19307  Cust33448     2015-02-08   Multi-vehicle Collision   Side Collision   \n",
       "2609   Cust13159     2015-01-17             Vehicle Theft                ?   \n",
       "15420  Cust28705     2015-02-25   Multi-vehicle Collision   Side Collision   \n",
       "21007  Cust35512     2015-01-10  Single Vehicle Collision   Side Collision   \n",
       "\n",
       "      SeverityOfIncident AuthoritiesContacted IncidentState IncidentCity  \\\n",
       "20936       Major Damage                 Fire        State4        City4   \n",
       "19307       Minor Damage                Other        State8        City7   \n",
       "2609      Trivial Damage                 None        State9        City2   \n",
       "15420         Total Loss                Other        State5        City7   \n",
       "21007       Minor Damage                 Fire        State7        City4   \n",
       "\n",
       "      IncidentAddress  IncidentTime  NumberOfVehicles PropertyDamage  \\\n",
       "20936   Location 1756             4                 3              ?   \n",
       "19307   Location 1025            19                 3              ?   \n",
       "2609    Location 1137             8                 1              ?   \n",
       "15420   Location 2077             4                 2              ?   \n",
       "21007   Location 1479            14                 1             NO   \n",
       "\n",
       "       BodilyInjuries Witnesses PoliceReport AmountOfTotalClaim  \\\n",
       "20936               2         1          YES              50565   \n",
       "19307               2         0            ?              53301   \n",
       "2609                2         2           NO               3922   \n",
       "15420               2         0           NO              88690   \n",
       "21007               0         0            ?              62271   \n",
       "\n",
       "       AmountOfInjuryClaim  AmountOfPropertyClaim  AmountOfVehicleDamage  \\\n",
       "20936                10529                   5901                  34135   \n",
       "19307                 4978                   4710                  43613   \n",
       "2609                   347                    693                   2882   \n",
       "15420                14503                  14503                  59684   \n",
       "21007                 6367                  12735                  43169   \n",
       "\n",
       "       InsuredAge  InsuredZipCode InsuredGender InsuredEducationLevel  \\\n",
       "20936          44          616714          MALE               Masters   \n",
       "19307          40          444797          MALE                    MD   \n",
       "2609           38          606144          MALE               Masters   \n",
       "15420          33          449260          MALE                    JD   \n",
       "21007          47          618455        FEMALE                    MD   \n",
       "\n",
       "      InsuredOccupation InsuredHobbies  CapitalGains  CapitalLoss Country  \\\n",
       "20936    prof-specialty         movies             0            0   India   \n",
       "19307   protective-serv       sleeping             0       -40600   India   \n",
       "2609   transport-moving    video-games             0       -43400   India   \n",
       "15420   exec-managerial      paintball         45600       -61400   India   \n",
       "21007             sales       kayaking             0       -55600   India   \n",
       "\n",
       "       InsurancePolicyNumber  CustomerLoyaltyPeriod DateOfPolicyCoverage  \\\n",
       "20936                 144548                    275           2002-10-07   \n",
       "19307                 142569                    227           1992-12-13   \n",
       "2609                  122280                    251           2004-04-22   \n",
       "15420                 137826                    144           1996-01-22   \n",
       "21007                 144633                    284           1992-02-10   \n",
       "\n",
       "      InsurancePolicyState Policy_CombinedSingleLimit  Policy_Deductible  \\\n",
       "20936               State1                    100/300               1000   \n",
       "19307               State2                    100/300               1000   \n",
       "2609                State1                   500/1000               1507   \n",
       "15420               State1                    250/500                500   \n",
       "21007               State3                    100/300               1181   \n",
       "\n",
       "       PolicyAnnualPremium  UmbrellaLimit InsuredRelationship  \n",
       "20936              1072.38              0             husband  \n",
       "19307              1441.49              0           own-child  \n",
       "2609               1046.00              0             husband  \n",
       "15420              1216.26        3026658      other-relative  \n",
       "21007              1493.96              0       not-in-family  "
      ]
     },
     "execution_count": 4,
     "metadata": {},
     "output_type": "execute_result"
    }
   ],
   "source": [
    "x_train.head()"
   ]
  },
  {
   "cell_type": "code",
   "execution_count": 5,
   "id": "28c470df",
   "metadata": {},
   "outputs": [
    {
     "data": {
      "text/plain": [
       "((23068, 37), (23068, 1), (5768, 37), (5768, 1))"
      ]
     },
     "execution_count": 5,
     "metadata": {},
     "output_type": "execute_result"
    }
   ],
   "source": [
    "x_train.shape, y_train.shape, x_test.shape, y_test.shape"
   ]
  },
  {
   "cell_type": "code",
   "execution_count": 6,
   "id": "22507d12",
   "metadata": {
    "scrolled": true
   },
   "outputs": [],
   "source": [
    "# Customer tranformer to combine specific attributes from the dataset\n",
    "\n",
    "class CombineAttributes(BaseEstimator, TransformerMixin):\n",
    "    def __init__(self, add_location=True):\n",
    "        self.add_location = add_location\n",
    "        \n",
    "    def fit(self, X, y=None):\n",
    "        return None\n",
    "    \n",
    "    def transform(self, X):\n",
    "        X[\"NetCapital\"] = X[\"CapitalGains\"] + X[\"CapitalLoss\"]\n",
    "        \n",
    "        if add_location:\n",
    "            X[\"IncidentArea\"] = X[\"IncidentState\"] + \" \" + X[\"IncidentCity\"]\n",
    "            \n",
    "        return X"
   ]
  },
  {
   "cell_type": "code",
   "execution_count": 7,
   "id": "1b7df016",
   "metadata": {},
   "outputs": [],
   "source": [
    "class RemoveMissingValues(BaseEstimator, TransformerMixin):\n",
    "    def __init__(self, incident_time=True, witnesses=True, totalclaim=True):\n",
    "        self.incident_time = incident_time\n",
    "        self.witnesses = witnesses\n",
    "        self.totalclaim = totalclaim\n",
    "        \n",
    "    def fit(self, X, y=None):\n",
    "        return None\n",
    "    \n",
    "    def transform(self, X, y=None):\n",
    "        if self.incident_time:\n",
    "            time_missing = X[X[\"IncidentTime\"] == -5].index\n",
    "            X, y = X.drop(time_missing), y.drop(time_missing)\n",
    "            \n",
    "        if self.witnesses:\n",
    "            witnesses_missing = X[X[\"Witnesses\"] == \"MISSINGVALUE\"].index\n",
    "            X, y= X.drop(witnesses_missing), y.drop(witnesses_missing)\n",
    "        \n",
    "        if self.totalclaim:\n",
    "            totalclaim_missing = X[X[\"AmountOfTotalClaim\"] == \"MISSEDDATA\"].index\n",
    "            X, y = X.drop(totalclaim_missing), y.drop(totalclaim_missing)\n",
    "        \n",
    "        return X, y"
   ]
  },
  {
   "cell_type": "code",
   "execution_count": 11,
   "id": "d7f1387e",
   "metadata": {},
   "outputs": [],
   "source": [
    "class OutlierManager(BaseEstimator, TransformerMixin):\n",
    "    def __init__(self):\n",
    "        return None\n",
    "    \n",
    "    def fit(self, X, y=None):\n",
    "        return None\n",
    "    \n",
    "    def transform(self, X, y):\n",
    "        policyprem_outliers = X[X[\"PolicyAnnualPremium\"] < 0].index\n",
    "        X, y = X.drop(policyprem_outliers), y.drop(policyprem_outliers)\n",
    "        \n",
    "        return X, y"
   ]
  },
  {
   "cell_type": "code",
   "execution_count": 13,
   "id": "f8e3fada",
   "metadata": {},
   "outputs": [],
   "source": [
    "#x_train = x_train.drop([\"InsuredGender\"], axis=1)\n",
    "#x_train = x_train.drop([\"Country\"], axis=1)"
   ]
  },
  {
   "cell_type": "code",
   "execution_count": 14,
   "id": "5993fa7c",
   "metadata": {},
   "outputs": [],
   "source": [
    "from sklearn.compose import ColumnTransformer\n",
    "from sklearn.preprocessing import OneHotEncoder, StandardScaler"
   ]
  },
  {
   "cell_type": "code",
   "execution_count": 20,
   "id": "697f119b",
   "metadata": {
    "scrolled": true
   },
   "outputs": [],
   "source": [
    "totalclaim_missing_idx = x_train[x_train[\"AmountOfTotalClaim\"] == \"MISSEDDATA\"].index\n",
    "x_train, y_train = x_train.drop(totalclaim_missing_idx), y_train.drop(totalclaim_missing_idx)\n",
    "\n",
    "x_train[\"NetCapital\"] = x_train[\"CapitalGains\"] + x_train[\"CapitalLoss\"]\n",
    "x_train[\"AmountOfTotalClaim\"] = x_train[\"AmountOfTotalClaim\"].astype('int')"
   ]
  },
  {
   "cell_type": "code",
   "execution_count": 21,
   "id": "0f931c42",
   "metadata": {},
   "outputs": [],
   "source": [
    "totalclaim_missing_idx_test = x_test[x_test[\"AmountOfTotalClaim\"] == \"MISSEDDATA\"].index\n",
    "x_test, y_test = x_test.drop(totalclaim_missing_idx_test), y_test.drop(totalclaim_missing_idx_test)\n",
    "\n",
    "x_test[\"NetCapital\"] = x_test[\"CapitalGains\"] + x_test[\"CapitalLoss\"]\n",
    "x_test[\"AmountOfTotalClaim\"] = x_test[\"AmountOfTotalClaim\"].astype('int')"
   ]
  },
  {
   "cell_type": "code",
   "execution_count": 22,
   "id": "46931b8a",
   "metadata": {},
   "outputs": [],
   "source": [
    "cat_attributes = ['IncidentTime',\n",
    "                  'Witnesses',\n",
    "                  'SeverityOfIncident', \n",
    "                 'AuthoritiesContacted', \n",
    "                 'PropertyDamage', \n",
    "                 'InsuredOccupation', \n",
    "                 'InsuredHobbies', \n",
    "                 'DateOfPolicyCoverage', \n",
    "                 'Policy_CombinedSingleLimit', \n",
    "                 'InsuredRelationship',\n",
    "                 ]\n",
    "\n",
    "num_attributes = ['NumberOfVehicles',\n",
    "             'BodilyInjuries',\n",
    "             'AmountOfTotalClaim',\n",
    "             'AmountOfInjuryClaim',\n",
    "             'AmountOfPropertyClaim',\n",
    "             'AmountOfVehicleDamage',\n",
    "             'InsuredAge',\n",
    "             'CapitalGains',\n",
    "             'CapitalLoss',\n",
    "             'InsurancePolicyNumber',\n",
    "             'CustomerLoyaltyPeriod',\n",
    "             'Policy_Deductible',\n",
    "             'PolicyAnnualPremium',\n",
    "             'NetCapital']\n",
    "\n",
    "cat_idx = [x_train.columns.get_loc(i) for i in cat_attributes]\n",
    "num_idx = [x_train.columns.get_loc(i) for i in num_attributes]\n",
    "inc_time_idx = x_train.columns.get_loc('IncidentTime')\n",
    "wit_idx = x_train.columns.get_loc('Witnesses')"
   ]
  },
  {
   "cell_type": "code",
   "execution_count": 23,
   "id": "f6fb0b3b",
   "metadata": {
    "scrolled": false
   },
   "outputs": [],
   "source": [
    "from sklearn.compose import ColumnTransformer\n",
    "from sklearn.preprocessing import OneHotEncoder\n",
    "from sklearn.pipeline import Pipeline\n",
    "\n",
    "# cat_attributes\n",
    "# num_attributes\n",
    "\n",
    "#(\"1Hot Cat Encoder\", OneHotEncoder(), cat_attributes)\n",
    "\n",
    "lb_train = LabelBinarizer()\n",
    "lb_test = LabelBinarizer()\n",
    "\n",
    "y_train, y_test = pd.DataFrame(lb_train.fit_transform(y_train)), pd.DataFrame(lb_test.fit_transform(y_test))\n",
    "\n",
    "cat_transformer = Pipeline([\n",
    "    (\"impute_incident_time\", SimpleImputer(missing_values=-5, strategy='most_frequent')), \n",
    "    (\"impute_witnesses\", SimpleImputer(missing_values=\"MISSINGVALUE\", strategy='most_frequent')),\n",
    "    (\"1h_encoder\", OneHotEncoder(handle_unknown='ignore'))]\n",
    ")\n",
    "\n",
    "num_transformer = Pipeline([\n",
    "    (\"std_scaler\", StandardScaler())]\n",
    ")\n",
    "\n",
    "\n",
    "full_pipeline = ColumnTransformer(\n",
    "    transformers = [\n",
    "        (\"num\", num_transformer, num_attributes), \n",
    "        (\"cat\", cat_transformer, cat_attributes)\n",
    "    ]\n",
    ")\n",
    "\n",
    "data_prepared = full_pipeline.fit_transform(x_train)"
   ]
  },
  {
   "cell_type": "code",
   "execution_count": 24,
   "id": "e618c8c0",
   "metadata": {},
   "outputs": [],
   "source": [
    "from sklearn.tree import DecisionTreeClassifier\n",
    "\n",
    "tree_clf = DecisionTreeClassifier(random_state=42)"
   ]
  },
  {
   "cell_type": "code",
   "execution_count": 25,
   "id": "aa7e873a",
   "metadata": {},
   "outputs": [
    {
     "data": {
      "text/plain": [
       "DecisionTreeClassifier(random_state=42)"
      ]
     },
     "execution_count": 25,
     "metadata": {},
     "output_type": "execute_result"
    }
   ],
   "source": [
    "tree_clf.fit(data_prepared, y_train)"
   ]
  },
  {
   "cell_type": "code",
   "execution_count": 26,
   "id": "c282ab26",
   "metadata": {
    "scrolled": true
   },
   "outputs": [],
   "source": [
    "data_test = full_pipeline.transform(x_test)"
   ]
  },
  {
   "cell_type": "code",
   "execution_count": 27,
   "id": "646d52b8",
   "metadata": {
    "scrolled": true
   },
   "outputs": [
    {
     "data": {
      "text/plain": [
       "0.9055227509551927"
      ]
     },
     "execution_count": 27,
     "metadata": {},
     "output_type": "execute_result"
    }
   ],
   "source": [
    "tree_clf.score(data_test, y_test)"
   ]
  },
  {
   "cell_type": "code",
   "execution_count": 28,
   "id": "e458ab9a",
   "metadata": {},
   "outputs": [
    {
     "data": {
      "text/plain": [
       "0    0.729941\n",
       "1    0.270059\n",
       "dtype: float64"
      ]
     },
     "execution_count": 28,
     "metadata": {},
     "output_type": "execute_result"
    }
   ],
   "source": [
    "y_test.value_counts(normalize=True)"
   ]
  },
  {
   "cell_type": "code",
   "execution_count": 29,
   "id": "6a2a76ac",
   "metadata": {},
   "outputs": [],
   "source": [
    "from sklearn.metrics import mean_squared_error\n",
    "from sklearn.preprocessing import LabelBinarizer\n",
    "\n",
    "\n",
    "fraud_predictions = tree_clf.predict(data_test)\n",
    "\n",
    "lb = LabelBinarizer()\n",
    "lb2 = LabelBinarizer()\n",
    "\n",
    "labels_bin = lb.fit_transform(y_test)\n",
    "pred_bin = lb2.fit_transform(fraud_predictions)\n",
    "\n",
    "tree_mse = mean_squared_error(labels_bin, pred_bin)\n",
    "tree_rmse = np.sqrt(tree_mse)"
   ]
  },
  {
   "cell_type": "code",
   "execution_count": 30,
   "id": "6b5efa1a",
   "metadata": {},
   "outputs": [
    {
     "data": {
      "text/plain": [
       "0.09447724904480723"
      ]
     },
     "execution_count": 30,
     "metadata": {},
     "output_type": "execute_result"
    }
   ],
   "source": [
    "tree_mse"
   ]
  },
  {
   "cell_type": "code",
   "execution_count": 31,
   "id": "ae86ff7a",
   "metadata": {},
   "outputs": [
    {
     "data": {
      "text/plain": [
       "0.3073715163199206"
      ]
     },
     "execution_count": 31,
     "metadata": {},
     "output_type": "execute_result"
    }
   ],
   "source": [
    "tree_rmse"
   ]
  },
  {
   "cell_type": "code",
   "execution_count": 32,
   "id": "5b4c743d",
   "metadata": {},
   "outputs": [],
   "source": [
    "from sklearn.model_selection import cross_val_score\n",
    "\n",
    "scores = cross_val_score(tree_clf, data_prepared, y_train, scoring=\"neg_mean_squared_error\", cv=5)\n",
    "\n",
    "tree_rmse_scores = np.sqrt(-scores)"
   ]
  },
  {
   "cell_type": "code",
   "execution_count": 33,
   "id": "9bbb4a63",
   "metadata": {},
   "outputs": [
    {
     "data": {
      "text/plain": [
       "array([0.3177346 , 0.30518746, 0.31739277, 0.3181106 , 0.30699411])"
      ]
     },
     "execution_count": 33,
     "metadata": {},
     "output_type": "execute_result"
    }
   ],
   "source": [
    "tree_rmse_scores"
   ]
  },
  {
   "cell_type": "code",
   "execution_count": null,
   "id": "f8e400f4",
   "metadata": {},
   "outputs": [],
   "source": []
  }
 ],
 "metadata": {
  "kernelspec": {
   "display_name": "Python 3 (ipykernel)",
   "language": "python",
   "name": "python3"
  },
  "language_info": {
   "codemirror_mode": {
    "name": "ipython",
    "version": 3
   },
   "file_extension": ".py",
   "mimetype": "text/x-python",
   "name": "python",
   "nbconvert_exporter": "python",
   "pygments_lexer": "ipython3",
   "version": "3.9.12"
  }
 },
 "nbformat": 4,
 "nbformat_minor": 5
}
